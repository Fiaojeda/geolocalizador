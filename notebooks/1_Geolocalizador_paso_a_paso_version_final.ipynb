{
 "cells": [
  {
   "cell_type": "markdown",
   "id": "f3ba026a-4388-4b01-9af4-2b1b39a3d745",
   "metadata": {},
   "source": [
    "# Geolocalizador"
   ]
  },
  {
   "cell_type": "markdown",
   "id": "ecb8a0a0-314b-46d4-8431-e4230d0c2eea",
   "metadata": {},
   "source": [
    "Autores: Sofía Barreto Ojeda Néstor Felipe Bobadilla, David Gamba\n",
    "\n",
    "El objetivo de este proyecto es hacer una visualizacion de los eventos bélicos en territorio ucraniano y atribuidos al hostigamiento ruso. Este notebook incluye tres secciones:\n",
    "\n",
    "**1. Descarga de Datos.**\n",
    "\n",
    "**2. Analisis Exploratorio de Datos.**\n",
    "\n",
    "**3. Visualización de Datos.**\n",
    "\n",
    "**4. Siguientes pasos.**\n",
    "\n",
    "Vamos a usar las librerias: \n",
    "- `urllib` para extraer la informacion, \n",
    "- `pandas`, para tabular la informacion encontrada.\n",
    "- `geoplotlib` y `plotly`, para generar el mapa de Ucrania y visualizar la golocalizacion de los bombardeos.\n",
    "\n",
    "-----"
   ]
  },
  {
   "cell_type": "markdown",
   "id": "a6be3615-527c-470b-8e9e-a2683c79fcfa",
   "metadata": {},
   "source": [
    "Antes de iniciar, importamos las librerías que vamos a usar en este notebook:"
   ]
  },
  {
   "cell_type": "code",
   "execution_count": 122,
   "id": "5423e3de-8ddd-48ec-8940-be716541b454",
   "metadata": {},
   "outputs": [],
   "source": [
    "# descargar datos\n",
    "from urllib.request import urlopen\n",
    "\n",
    "#json\n",
    "import json\n",
    "\n",
    "# tabular\n",
    "import pandas as pd\n",
    "\n",
    "# maps\n",
    "import plotly.express as px"
   ]
  },
  {
   "cell_type": "markdown",
   "id": "9653ec16-66ad-4073-b996-a31d884695f8",
   "metadata": {},
   "source": [
    "----"
   ]
  },
  {
   "cell_type": "markdown",
   "id": "fbef5a3f-4a57-4202-bc47-03af1f579c23",
   "metadata": {},
   "source": [
    "## 1. Descarga de Datos"
   ]
  },
  {
   "cell_type": "markdown",
   "id": "6c64ff1b-87e6-4d56-a500-4adebc95f469",
   "metadata": {},
   "source": [
    "Los detalles de los eventos se obtienen de la base de datos proviene del grupo de periodismo investigativo [Bellingcat](https://en.wikipedia.org/wiki/Bellingcat). Esta base de datos que muestra fecha, hora, ubicación, y coordenadas de cada evento.\n",
    "\n",
    "La base de datos esta disponible en el siguiente link, al que llamamos `url`:"
   ]
  },
  {
   "cell_type": "code",
   "execution_count": 123,
   "id": "ebc54a43-4dc0-420e-b04c-4086e6dee638",
   "metadata": {
    "tags": []
   },
   "outputs": [],
   "source": [
    "url = 'https://ukraine.bellingcat.com/ukraine-server/api/ukraine/export_events/deeprows'"
   ]
  },
  {
   "cell_type": "markdown",
   "id": "7995a2a4-94da-4980-810b-a0d69f226cf3",
   "metadata": {},
   "source": [
    "El siguiente paso es guardar la informacion de nuestro url en la variable `data`. Dado que los datos están almacenados en formato json, podemos usar la función `json.load` para almacenar nuestros datos en la variable `datos`."
   ]
  },
  {
   "cell_type": "markdown",
   "id": "eb34600e-dbd5-4bce-81f0-6188af5fc854",
   "metadata": {},
   "source": [
    "Así, almacenamos la información en `datos`:"
   ]
  },
  {
   "cell_type": "code",
   "execution_count": 124,
   "id": "c0cb7e01-2758-4d07-82d3-a863ea998b4f",
   "metadata": {
    "tags": []
   },
   "outputs": [],
   "source": [
    "with urlopen(url) as response:\n",
    "    datos = json.load(response)"
   ]
  },
  {
   "cell_type": "markdown",
   "id": "09cd1b24-cb06-44c1-841a-15054fb35050",
   "metadata": {},
   "source": [
    "Podemos revisar el numero de eventos registrados con `len`, de donde se puede ver que hay 432 entradas."
   ]
  },
  {
   "cell_type": "code",
   "execution_count": 125,
   "id": "95dc95ca-55f6-43b8-95bb-e0b501961c23",
   "metadata": {},
   "outputs": [
    {
     "data": {
      "text/plain": [
       "445"
      ]
     },
     "execution_count": 125,
     "metadata": {},
     "output_type": "execute_result"
    }
   ],
   "source": [
    "len(datos)\n"
   ]
  },
  {
   "cell_type": "markdown",
   "id": "e88d73d8-8a9d-4ff2-9e36-061ae31a3288",
   "metadata": {},
   "source": [
    "Ya que tenemos la información almacedanada en la variable `datos`, podemos proceder a hacer un breve análisis exploratorio de datos."
   ]
  },
  {
   "cell_type": "markdown",
   "id": "884554fb-8bca-4507-9190-32569d803f44",
   "metadata": {},
   "source": [
    "## 2. Análisis Exploratorio de Datos"
   ]
  },
  {
   "cell_type": "markdown",
   "id": "37004457-849e-47c5-a872-067e0c5e8f35",
   "metadata": {},
   "source": [
    "Como primer paso, podemos revisar el tipo de información obtenida de la base de datos. Dado que la información está contenida en un archivo de formato json, podemos extraer las llaves del primer elemento de la variable `datos` para saber el tipo de datos con los que contamos:"
   ]
  },
  {
   "cell_type": "code",
   "execution_count": 126,
   "id": "c31d0cbe-1c9b-4ed0-960b-26785d1f0fee",
   "metadata": {},
   "outputs": [
    {
     "name": "stdout",
     "output_type": "stream",
     "text": [
      "9 columnas.\n",
      "dict_keys(['associations', 'sources', 'id', 'description', 'date', 'time', 'location', 'latitude', 'longitude'])\n"
     ]
    }
   ],
   "source": [
    "columns = (datos[0].keys()) # muestra las llaves de la primera entrada de la variable datos\n",
    "print(f\"{len(columns)} columnas.\\n{columns}\")"
   ]
  },
  {
   "cell_type": "markdown",
   "id": "a243d27a-e021-4c5c-bdac-3466f3cdbada",
   "metadata": {},
   "source": [
    "De aqui podemos ver que tenemos 9 diferentes columnas:\n",
    "- `associations` \n",
    "- `sources` \n",
    "- `id` \n",
    "- `description` \n",
    "- `date` \n",
    "- `time`\n",
    "- `location` \n",
    "- `latitude`\n",
    "- `longitude`\n",
    "\n",
    "Ahora que tenemos una mejor idea del tipo de información almacenada en `datos`, podemos usas la libreria [pandas](https://pandas.pydata.org/docs/index.html) para usar `DataFrames` en lugar de formato json."
   ]
  },
  {
   "cell_type": "markdown",
   "id": "9e8c025c-14a5-49d4-8524-683db57b28c5",
   "metadata": {},
   "source": [
    "### 2.1 Json a DataFrame"
   ]
  },
  {
   "cell_type": "markdown",
   "id": "80930191-f21b-4044-832d-28194343cee7",
   "metadata": {},
   "source": [
    "Para convertir la información de json a DataFrames, podemos usar la función `json_normalize` disponible en la libreria pandas. Por ejemplo, para la primera entrada podemos convertir json a `DataFrame` con:"
   ]
  },
  {
   "cell_type": "code",
   "execution_count": 127,
   "id": "32e18567-dad0-41f2-a403-ef47c159f558",
   "metadata": {},
   "outputs": [
    {
     "data": {
      "text/html": [
       "<div>\n",
       "<style scoped>\n",
       "    .dataframe tbody tr th:only-of-type {\n",
       "        vertical-align: middle;\n",
       "    }\n",
       "\n",
       "    .dataframe tbody tr th {\n",
       "        vertical-align: top;\n",
       "    }\n",
       "\n",
       "    .dataframe thead th {\n",
       "        text-align: right;\n",
       "    }\n",
       "</style>\n",
       "<table border=\"1\" class=\"dataframe\">\n",
       "  <thead>\n",
       "    <tr style=\"text-align: right;\">\n",
       "      <th></th>\n",
       "      <th>associations</th>\n",
       "      <th>sources</th>\n",
       "      <th>id</th>\n",
       "      <th>description</th>\n",
       "      <th>date</th>\n",
       "      <th>time</th>\n",
       "      <th>location</th>\n",
       "      <th>latitude</th>\n",
       "      <th>longitude</th>\n",
       "    </tr>\n",
       "  </thead>\n",
       "  <tbody>\n",
       "    <tr>\n",
       "      <th>0</th>\n",
       "      <td>[asc1, asc11]</td>\n",
       "      <td>[src_exists_CIV0001_1, src_exists_CIV0001_2, s...</td>\n",
       "      <td>CIV0001</td>\n",
       "      <td>Apartment block hit. Crater is very large, pos...</td>\n",
       "      <td>02/24/2022</td>\n",
       "      <td>00:00</td>\n",
       "      <td>Chuhuiv, south of Kharkiv</td>\n",
       "      <td>49.85005</td>\n",
       "      <td>36.659031</td>\n",
       "    </tr>\n",
       "    <tr>\n",
       "      <th>1</th>\n",
       "      <td>[asc8, asc21]</td>\n",
       "      <td>[src_exists_CIV0002_1, src_exists_CIV0002_2, s...</td>\n",
       "      <td>CIV0002</td>\n",
       "      <td>Civillians hit by what appears to have been ar...</td>\n",
       "      <td>02/24/2022</td>\n",
       "      <td>00:00</td>\n",
       "      <td>Uman</td>\n",
       "      <td>48.748564</td>\n",
       "      <td>30.218515</td>\n",
       "    </tr>\n",
       "    <tr>\n",
       "      <th>2</th>\n",
       "      <td>[]</td>\n",
       "      <td>[srcHidden]</td>\n",
       "      <td>CIV0003</td>\n",
       "      <td>Explosion in central Kyiv, nothing further yet.</td>\n",
       "      <td>02/24/2022</td>\n",
       "      <td>00:00</td>\n",
       "      <td>Kyiv</td>\n",
       "      <td>50.470055</td>\n",
       "      <td>30.527381</td>\n",
       "    </tr>\n",
       "    <tr>\n",
       "      <th>3</th>\n",
       "      <td>[asc4, asc14]</td>\n",
       "      <td>[src_exists_CIV0004_1, src_exists_CIV0004_2, s...</td>\n",
       "      <td>CIV0004</td>\n",
       "      <td>Explosion in central Kyiv, nothing further yet.</td>\n",
       "      <td>02/24/2022</td>\n",
       "      <td>00:00</td>\n",
       "      <td>Vuhledar</td>\n",
       "      <td>47.775537</td>\n",
       "      <td>37.239601</td>\n",
       "    </tr>\n",
       "    <tr>\n",
       "      <th>4</th>\n",
       "      <td>[asc1, asc11]</td>\n",
       "      <td>[src_exists_CIV0008_1, src_exists_CIV0008_2]</td>\n",
       "      <td>CIV0008</td>\n",
       "      <td>Civillian homes hit by artillery.</td>\n",
       "      <td>02/24/2022</td>\n",
       "      <td>00:00</td>\n",
       "      <td>Mariupol</td>\n",
       "      <td>47.116736</td>\n",
       "      <td>37.684468</td>\n",
       "    </tr>\n",
       "    <tr>\n",
       "      <th>...</th>\n",
       "      <td>...</td>\n",
       "      <td>...</td>\n",
       "      <td>...</td>\n",
       "      <td>...</td>\n",
       "      <td>...</td>\n",
       "      <td>...</td>\n",
       "      <td>...</td>\n",
       "      <td>...</td>\n",
       "      <td>...</td>\n",
       "    </tr>\n",
       "    <tr>\n",
       "      <th>440</th>\n",
       "      <td>[asc8, asc11]</td>\n",
       "      <td>[src_exists_CIV0907_1]</td>\n",
       "      <td>CIV0907</td>\n",
       "      <td>Munition remnant embedded in pavement of parki...</td>\n",
       "      <td>03/24/2022</td>\n",
       "      <td>00:00</td>\n",
       "      <td>Kharkiv</td>\n",
       "      <td>50.020498</td>\n",
       "      <td>36.239983</td>\n",
       "    </tr>\n",
       "    <tr>\n",
       "      <th>441</th>\n",
       "      <td>[asc9, asc11]</td>\n",
       "      <td>[src_exists_CIV0908_1]</td>\n",
       "      <td>CIV0908</td>\n",
       "      <td>Menorah statue damaged, allegedly by artillery.</td>\n",
       "      <td>03/26/2022</td>\n",
       "      <td>00:00</td>\n",
       "      <td>Kharkiv</td>\n",
       "      <td>49.932311</td>\n",
       "      <td>36.439195</td>\n",
       "    </tr>\n",
       "    <tr>\n",
       "      <th>442</th>\n",
       "      <td>[asc5, asc11]</td>\n",
       "      <td>[src_exists_CIV0911_1]</td>\n",
       "      <td>CIV0911</td>\n",
       "      <td>School destroyed by explosion.</td>\n",
       "      <td>03/04/2022</td>\n",
       "      <td>00:00</td>\n",
       "      <td>Izyum</td>\n",
       "      <td>49.342847</td>\n",
       "      <td>37.527481</td>\n",
       "    </tr>\n",
       "    <tr>\n",
       "      <th>443</th>\n",
       "      <td>[asc9, asc11]</td>\n",
       "      <td>[srcHidden]</td>\n",
       "      <td>CIV0916</td>\n",
       "      <td>Destruction of a church.</td>\n",
       "      <td>05/09/2022</td>\n",
       "      <td>00:00</td>\n",
       "      <td>Donetsk</td>\n",
       "      <td>48.992607</td>\n",
       "      <td>37.443586</td>\n",
       "    </tr>\n",
       "    <tr>\n",
       "      <th>444</th>\n",
       "      <td>[asc9, asc11]</td>\n",
       "      <td>[]</td>\n",
       "      <td>CIV0917</td>\n",
       "      <td>Damage to church in Donetsk.</td>\n",
       "      <td>05/10/2022</td>\n",
       "      <td>00:00</td>\n",
       "      <td>Donesk</td>\n",
       "      <td>48.941507</td>\n",
       "      <td>37.456383</td>\n",
       "    </tr>\n",
       "  </tbody>\n",
       "</table>\n",
       "<p>445 rows × 9 columns</p>\n",
       "</div>"
      ],
      "text/plain": [
       "      associations                                            sources  \\\n",
       "0    [asc1, asc11]  [src_exists_CIV0001_1, src_exists_CIV0001_2, s...   \n",
       "1    [asc8, asc21]  [src_exists_CIV0002_1, src_exists_CIV0002_2, s...   \n",
       "2               []                                        [srcHidden]   \n",
       "3    [asc4, asc14]  [src_exists_CIV0004_1, src_exists_CIV0004_2, s...   \n",
       "4    [asc1, asc11]       [src_exists_CIV0008_1, src_exists_CIV0008_2]   \n",
       "..             ...                                                ...   \n",
       "440  [asc8, asc11]                             [src_exists_CIV0907_1]   \n",
       "441  [asc9, asc11]                             [src_exists_CIV0908_1]   \n",
       "442  [asc5, asc11]                             [src_exists_CIV0911_1]   \n",
       "443  [asc9, asc11]                                        [srcHidden]   \n",
       "444  [asc9, asc11]                                                 []   \n",
       "\n",
       "          id                                        description        date  \\\n",
       "0    CIV0001  Apartment block hit. Crater is very large, pos...  02/24/2022   \n",
       "1    CIV0002  Civillians hit by what appears to have been ar...  02/24/2022   \n",
       "2    CIV0003    Explosion in central Kyiv, nothing further yet.  02/24/2022   \n",
       "3    CIV0004    Explosion in central Kyiv, nothing further yet.  02/24/2022   \n",
       "4    CIV0008                 Civillian homes hit by artillery.   02/24/2022   \n",
       "..       ...                                                ...         ...   \n",
       "440  CIV0907  Munition remnant embedded in pavement of parki...  03/24/2022   \n",
       "441  CIV0908   Menorah statue damaged, allegedly by artillery.   03/26/2022   \n",
       "442  CIV0911                    School destroyed by explosion.   03/04/2022   \n",
       "443  CIV0916                           Destruction of a church.  05/09/2022   \n",
       "444  CIV0917                       Damage to church in Donetsk.  05/10/2022   \n",
       "\n",
       "      time                   location   latitude  longitude  \n",
       "0    00:00  Chuhuiv, south of Kharkiv   49.85005  36.659031  \n",
       "1    00:00                       Uman  48.748564  30.218515  \n",
       "2    00:00                       Kyiv  50.470055  30.527381  \n",
       "3    00:00                   Vuhledar  47.775537  37.239601  \n",
       "4    00:00                   Mariupol  47.116736  37.684468  \n",
       "..     ...                        ...        ...        ...  \n",
       "440  00:00                    Kharkiv  50.020498  36.239983  \n",
       "441  00:00                    Kharkiv  49.932311  36.439195  \n",
       "442  00:00                      Izyum  49.342847  37.527481  \n",
       "443  00:00                    Donetsk  48.992607  37.443586  \n",
       "444  00:00                     Donesk  48.941507  37.456383  \n",
       "\n",
       "[445 rows x 9 columns]"
      ]
     },
     "execution_count": 127,
     "metadata": {},
     "output_type": "execute_result"
    }
   ],
   "source": [
    "\n",
    "df1 = pd.json_normalize(datos) # convierte json a dataframe, primera entrada\n",
    "df1"
   ]
  },
  {
   "cell_type": "markdown",
   "id": "656df92e-d1ac-4575-99e2-5884978a0b7e",
   "metadata": {},
   "source": [
    "Aquí llamamos `df1` a la variable que almacena una DataFrame para la primera entrada."
   ]
  },
  {
   "cell_type": "markdown",
   "id": "2adde294-73b3-4ef6-8635-880fd3801dc9",
   "metadata": {},
   "source": [
    "### 2.2. Suprimir información no necesaria"
   ]
  },
  {
   "cell_type": "markdown",
   "id": "f34b7259-cf02-46c5-84e4-893b550dd690",
   "metadata": {},
   "source": [
    "Adicionalmente, dado que nuestro objetivo es visualizar eventos (geolocalizador), de la información obtenida podemos suprimir las columnas `associations`, `sources`, `id`, y `time`. Para borras estas filas, podemos usar `.drop()`:"
   ]
  },
  {
   "cell_type": "code",
   "execution_count": 128,
   "id": "7e4571d8-83d9-4cc9-9af1-241bffe69388",
   "metadata": {},
   "outputs": [],
   "source": [
    "df = df1.drop(columns=['associations', 'sources', 'id', 'time'])"
   ]
  },
  {
   "cell_type": "markdown",
   "id": "b12f3d8d-3ac0-4fd3-97c3-db31086f61bd",
   "metadata": {},
   "source": [
    "Verificamos que los datos pertenecientes a nuestro DataFrame, sean depurados.\n",
    "Antes de continuar, también debemos verificar que los valores de la columna `latitude` and `longitude` son de typo `float`. "
   ]
  },
  {
   "cell_type": "code",
   "execution_count": 129,
   "id": "c2e35218-1f55-4286-bf51-808c7ab3c0bf",
   "metadata": {},
   "outputs": [
    {
     "data": {
      "text/html": [
       "<div>\n",
       "<style scoped>\n",
       "    .dataframe tbody tr th:only-of-type {\n",
       "        vertical-align: middle;\n",
       "    }\n",
       "\n",
       "    .dataframe tbody tr th {\n",
       "        vertical-align: top;\n",
       "    }\n",
       "\n",
       "    .dataframe thead th {\n",
       "        text-align: right;\n",
       "    }\n",
       "</style>\n",
       "<table border=\"1\" class=\"dataframe\">\n",
       "  <thead>\n",
       "    <tr style=\"text-align: right;\">\n",
       "      <th></th>\n",
       "      <th>description</th>\n",
       "      <th>date</th>\n",
       "      <th>location</th>\n",
       "      <th>latitude</th>\n",
       "      <th>longitude</th>\n",
       "    </tr>\n",
       "  </thead>\n",
       "  <tbody>\n",
       "    <tr>\n",
       "      <th>0</th>\n",
       "      <td>Apartment block hit. Crater is very large, pos...</td>\n",
       "      <td>02/24/2022</td>\n",
       "      <td>Chuhuiv, south of Kharkiv</td>\n",
       "      <td>49.85005</td>\n",
       "      <td>36.659031</td>\n",
       "    </tr>\n",
       "    <tr>\n",
       "      <th>1</th>\n",
       "      <td>Civillians hit by what appears to have been ar...</td>\n",
       "      <td>02/24/2022</td>\n",
       "      <td>Uman</td>\n",
       "      <td>48.748564</td>\n",
       "      <td>30.218515</td>\n",
       "    </tr>\n",
       "    <tr>\n",
       "      <th>2</th>\n",
       "      <td>Explosion in central Kyiv, nothing further yet.</td>\n",
       "      <td>02/24/2022</td>\n",
       "      <td>Kyiv</td>\n",
       "      <td>50.470055</td>\n",
       "      <td>30.527381</td>\n",
       "    </tr>\n",
       "    <tr>\n",
       "      <th>3</th>\n",
       "      <td>Explosion in central Kyiv, nothing further yet.</td>\n",
       "      <td>02/24/2022</td>\n",
       "      <td>Vuhledar</td>\n",
       "      <td>47.775537</td>\n",
       "      <td>37.239601</td>\n",
       "    </tr>\n",
       "    <tr>\n",
       "      <th>4</th>\n",
       "      <td>Civillian homes hit by artillery.</td>\n",
       "      <td>02/24/2022</td>\n",
       "      <td>Mariupol</td>\n",
       "      <td>47.116736</td>\n",
       "      <td>37.684468</td>\n",
       "    </tr>\n",
       "    <tr>\n",
       "      <th>...</th>\n",
       "      <td>...</td>\n",
       "      <td>...</td>\n",
       "      <td>...</td>\n",
       "      <td>...</td>\n",
       "      <td>...</td>\n",
       "    </tr>\n",
       "    <tr>\n",
       "      <th>440</th>\n",
       "      <td>Munition remnant embedded in pavement of parki...</td>\n",
       "      <td>03/24/2022</td>\n",
       "      <td>Kharkiv</td>\n",
       "      <td>50.020498</td>\n",
       "      <td>36.239983</td>\n",
       "    </tr>\n",
       "    <tr>\n",
       "      <th>441</th>\n",
       "      <td>Menorah statue damaged, allegedly by artillery.</td>\n",
       "      <td>03/26/2022</td>\n",
       "      <td>Kharkiv</td>\n",
       "      <td>49.932311</td>\n",
       "      <td>36.439195</td>\n",
       "    </tr>\n",
       "    <tr>\n",
       "      <th>442</th>\n",
       "      <td>School destroyed by explosion.</td>\n",
       "      <td>03/04/2022</td>\n",
       "      <td>Izyum</td>\n",
       "      <td>49.342847</td>\n",
       "      <td>37.527481</td>\n",
       "    </tr>\n",
       "    <tr>\n",
       "      <th>443</th>\n",
       "      <td>Destruction of a church.</td>\n",
       "      <td>05/09/2022</td>\n",
       "      <td>Donetsk</td>\n",
       "      <td>48.992607</td>\n",
       "      <td>37.443586</td>\n",
       "    </tr>\n",
       "    <tr>\n",
       "      <th>444</th>\n",
       "      <td>Damage to church in Donetsk.</td>\n",
       "      <td>05/10/2022</td>\n",
       "      <td>Donesk</td>\n",
       "      <td>48.941507</td>\n",
       "      <td>37.456383</td>\n",
       "    </tr>\n",
       "  </tbody>\n",
       "</table>\n",
       "<p>445 rows × 5 columns</p>\n",
       "</div>"
      ],
      "text/plain": [
       "                                           description        date  \\\n",
       "0    Apartment block hit. Crater is very large, pos...  02/24/2022   \n",
       "1    Civillians hit by what appears to have been ar...  02/24/2022   \n",
       "2      Explosion in central Kyiv, nothing further yet.  02/24/2022   \n",
       "3      Explosion in central Kyiv, nothing further yet.  02/24/2022   \n",
       "4                   Civillian homes hit by artillery.   02/24/2022   \n",
       "..                                                 ...         ...   \n",
       "440  Munition remnant embedded in pavement of parki...  03/24/2022   \n",
       "441   Menorah statue damaged, allegedly by artillery.   03/26/2022   \n",
       "442                    School destroyed by explosion.   03/04/2022   \n",
       "443                           Destruction of a church.  05/09/2022   \n",
       "444                       Damage to church in Donetsk.  05/10/2022   \n",
       "\n",
       "                      location   latitude  longitude  \n",
       "0    Chuhuiv, south of Kharkiv   49.85005  36.659031  \n",
       "1                         Uman  48.748564  30.218515  \n",
       "2                         Kyiv  50.470055  30.527381  \n",
       "3                     Vuhledar  47.775537  37.239601  \n",
       "4                     Mariupol  47.116736  37.684468  \n",
       "..                         ...        ...        ...  \n",
       "440                    Kharkiv  50.020498  36.239983  \n",
       "441                    Kharkiv  49.932311  36.439195  \n",
       "442                      Izyum  49.342847  37.527481  \n",
       "443                    Donetsk  48.992607  37.443586  \n",
       "444                     Donesk  48.941507  37.456383  \n",
       "\n",
       "[445 rows x 5 columns]"
      ]
     },
     "execution_count": 129,
     "metadata": {},
     "output_type": "execute_result"
    }
   ],
   "source": [
    "df"
   ]
  },
  {
   "cell_type": "markdown",
   "id": "18ee2613-a1c3-4aa4-99ab-b55de3f0a67c",
   "metadata": {},
   "source": [
    "Como se puede verificar en la siguiente celda, las columnas `latitude` and `longitude` son de typo `str`."
   ]
  },
  {
   "cell_type": "code",
   "execution_count": 130,
   "id": "c8cee899",
   "metadata": {},
   "outputs": [
    {
     "data": {
      "text/plain": [
       "str"
      ]
     },
     "execution_count": 130,
     "metadata": {},
     "output_type": "execute_result"
    }
   ],
   "source": [
    "type(df['latitude'][0])\n",
    "type(df['longitude'][0])"
   ]
  },
  {
   "cell_type": "markdown",
   "id": "36d9174d-1445-441a-9335-81c0315d9129",
   "metadata": {},
   "source": [
    "### 2.3. Convertir tipos de variables"
   ]
  },
  {
   "cell_type": "markdown",
   "id": "1b665127-20f5-4a27-a99a-e40aaf4da014",
   "metadata": {},
   "source": [
    "Para convertirlas a float hacemos:"
   ]
  },
  {
   "cell_type": "code",
   "execution_count": 131,
   "id": "5ba8825f-ebca-4134-8918-36a43dcf2006",
   "metadata": {},
   "outputs": [
    {
     "data": {
      "text/plain": [
       "numpy.float64"
      ]
     },
     "execution_count": 131,
     "metadata": {},
     "output_type": "execute_result"
    }
   ],
   "source": [
    "#df.astype({'latitude': 'float', 'longitude':'float'}).dtypes\n",
    "df[\"latitude\"]= df[\"latitude\"].astype(float)\n",
    "type(df[\"latitude\"][0])\n",
    "df['longitude']= df['longitude'].astype(float)\n",
    "type(df['longitude'][0])\n"
   ]
  },
  {
   "cell_type": "markdown",
   "id": "5433212a-fda2-4580-96a2-c48ad23dd854",
   "metadata": {},
   "source": [
    "De aquí también podemos ver que la columna `date` requiere de formato de fecha. Para asignar el formato apropiado hacemos:"
   ]
  },
  {
   "cell_type": "code",
   "execution_count": 132,
   "id": "8c0e2f26-0100-4e5c-b413-89120874c9b3",
   "metadata": {},
   "outputs": [],
   "source": [
    "df['date'] = pd.to_datetime(df['date'])"
   ]
  },
  {
   "cell_type": "markdown",
   "id": "2823f06f-fc58-4442-82eb-1d68853b1b83",
   "metadata": {},
   "source": [
    "De forma que tenemos una DataFrame con 5 columnas:"
   ]
  },
  {
   "cell_type": "code",
   "execution_count": 133,
   "id": "4d8b3b5e-687a-46fc-82e8-00c7f1163c4b",
   "metadata": {},
   "outputs": [
    {
     "data": {
      "text/html": [
       "<div>\n",
       "<style scoped>\n",
       "    .dataframe tbody tr th:only-of-type {\n",
       "        vertical-align: middle;\n",
       "    }\n",
       "\n",
       "    .dataframe tbody tr th {\n",
       "        vertical-align: top;\n",
       "    }\n",
       "\n",
       "    .dataframe thead th {\n",
       "        text-align: right;\n",
       "    }\n",
       "</style>\n",
       "<table border=\"1\" class=\"dataframe\">\n",
       "  <thead>\n",
       "    <tr style=\"text-align: right;\">\n",
       "      <th></th>\n",
       "      <th>description</th>\n",
       "      <th>date</th>\n",
       "      <th>location</th>\n",
       "      <th>latitude</th>\n",
       "      <th>longitude</th>\n",
       "    </tr>\n",
       "  </thead>\n",
       "  <tbody>\n",
       "    <tr>\n",
       "      <th>0</th>\n",
       "      <td>Apartment block hit. Crater is very large, pos...</td>\n",
       "      <td>2022-02-24</td>\n",
       "      <td>Chuhuiv, south of Kharkiv</td>\n",
       "      <td>49.850050</td>\n",
       "      <td>36.659031</td>\n",
       "    </tr>\n",
       "    <tr>\n",
       "      <th>1</th>\n",
       "      <td>Civillians hit by what appears to have been ar...</td>\n",
       "      <td>2022-02-24</td>\n",
       "      <td>Uman</td>\n",
       "      <td>48.748564</td>\n",
       "      <td>30.218515</td>\n",
       "    </tr>\n",
       "    <tr>\n",
       "      <th>2</th>\n",
       "      <td>Explosion in central Kyiv, nothing further yet.</td>\n",
       "      <td>2022-02-24</td>\n",
       "      <td>Kyiv</td>\n",
       "      <td>50.470055</td>\n",
       "      <td>30.527381</td>\n",
       "    </tr>\n",
       "    <tr>\n",
       "      <th>3</th>\n",
       "      <td>Explosion in central Kyiv, nothing further yet.</td>\n",
       "      <td>2022-02-24</td>\n",
       "      <td>Vuhledar</td>\n",
       "      <td>47.775537</td>\n",
       "      <td>37.239601</td>\n",
       "    </tr>\n",
       "    <tr>\n",
       "      <th>4</th>\n",
       "      <td>Civillian homes hit by artillery.</td>\n",
       "      <td>2022-02-24</td>\n",
       "      <td>Mariupol</td>\n",
       "      <td>47.116736</td>\n",
       "      <td>37.684468</td>\n",
       "    </tr>\n",
       "    <tr>\n",
       "      <th>...</th>\n",
       "      <td>...</td>\n",
       "      <td>...</td>\n",
       "      <td>...</td>\n",
       "      <td>...</td>\n",
       "      <td>...</td>\n",
       "    </tr>\n",
       "    <tr>\n",
       "      <th>440</th>\n",
       "      <td>Munition remnant embedded in pavement of parki...</td>\n",
       "      <td>2022-03-24</td>\n",
       "      <td>Kharkiv</td>\n",
       "      <td>50.020498</td>\n",
       "      <td>36.239983</td>\n",
       "    </tr>\n",
       "    <tr>\n",
       "      <th>441</th>\n",
       "      <td>Menorah statue damaged, allegedly by artillery.</td>\n",
       "      <td>2022-03-26</td>\n",
       "      <td>Kharkiv</td>\n",
       "      <td>49.932311</td>\n",
       "      <td>36.439195</td>\n",
       "    </tr>\n",
       "    <tr>\n",
       "      <th>442</th>\n",
       "      <td>School destroyed by explosion.</td>\n",
       "      <td>2022-03-04</td>\n",
       "      <td>Izyum</td>\n",
       "      <td>49.342847</td>\n",
       "      <td>37.527481</td>\n",
       "    </tr>\n",
       "    <tr>\n",
       "      <th>443</th>\n",
       "      <td>Destruction of a church.</td>\n",
       "      <td>2022-05-09</td>\n",
       "      <td>Donetsk</td>\n",
       "      <td>48.992607</td>\n",
       "      <td>37.443586</td>\n",
       "    </tr>\n",
       "    <tr>\n",
       "      <th>444</th>\n",
       "      <td>Damage to church in Donetsk.</td>\n",
       "      <td>2022-05-10</td>\n",
       "      <td>Donesk</td>\n",
       "      <td>48.941507</td>\n",
       "      <td>37.456383</td>\n",
       "    </tr>\n",
       "  </tbody>\n",
       "</table>\n",
       "<p>445 rows × 5 columns</p>\n",
       "</div>"
      ],
      "text/plain": [
       "                                           description       date  \\\n",
       "0    Apartment block hit. Crater is very large, pos... 2022-02-24   \n",
       "1    Civillians hit by what appears to have been ar... 2022-02-24   \n",
       "2      Explosion in central Kyiv, nothing further yet. 2022-02-24   \n",
       "3      Explosion in central Kyiv, nothing further yet. 2022-02-24   \n",
       "4                   Civillian homes hit by artillery.  2022-02-24   \n",
       "..                                                 ...        ...   \n",
       "440  Munition remnant embedded in pavement of parki... 2022-03-24   \n",
       "441   Menorah statue damaged, allegedly by artillery.  2022-03-26   \n",
       "442                    School destroyed by explosion.  2022-03-04   \n",
       "443                           Destruction of a church. 2022-05-09   \n",
       "444                       Damage to church in Donetsk. 2022-05-10   \n",
       "\n",
       "                      location   latitude  longitude  \n",
       "0    Chuhuiv, south of Kharkiv  49.850050  36.659031  \n",
       "1                         Uman  48.748564  30.218515  \n",
       "2                         Kyiv  50.470055  30.527381  \n",
       "3                     Vuhledar  47.775537  37.239601  \n",
       "4                     Mariupol  47.116736  37.684468  \n",
       "..                         ...        ...        ...  \n",
       "440                    Kharkiv  50.020498  36.239983  \n",
       "441                    Kharkiv  49.932311  36.439195  \n",
       "442                      Izyum  49.342847  37.527481  \n",
       "443                    Donetsk  48.992607  37.443586  \n",
       "444                     Donesk  48.941507  37.456383  \n",
       "\n",
       "[445 rows x 5 columns]"
      ]
     },
     "execution_count": 133,
     "metadata": {},
     "output_type": "execute_result"
    }
   ],
   "source": [
    "df"
   ]
  },
  {
   "cell_type": "markdown",
   "id": "a33e0092-1282-4758-aefb-085b58077e08",
   "metadata": {},
   "source": [
    "donde podemos ver que la fecha contenida en la columna `date` ahora tiene formato de `año-mes-día`."
   ]
  },
  {
   "cell_type": "markdown",
   "id": "77f7690f-a4a9-40e9-91bc-a91c53ace9bb",
   "metadata": {},
   "source": [
    "De la DataFrame obtenida, podemos identificar información clave para construir nuestro geolocalizador. Las dos columnas de datos más importantes son las de `latitude` and `longitud`, las cuales proveen información geográfica para graficar en el mapa."
   ]
  },
  {
   "cell_type": "markdown",
   "id": "656ee543-6981-4df8-a4fd-3324b49fb86b",
   "metadata": {
    "tags": []
   },
   "source": [
    "## 3. Visualización de Datos"
   ]
  },
  {
   "cell_type": "markdown",
   "id": "80f0c1fd-6472-4f69-ba25-7c4ab3a0bae4",
   "metadata": {},
   "source": [
    "Para visualizar los datos de latitud y longitud podemos hacer uso de la librería [plotly express](https://plotly.com/python/plotly-express/)."
   ]
  },
  {
   "cell_type": "markdown",
   "id": "f6e08273-3f3c-41e2-9582-5827c05101d4",
   "metadata": {},
   "source": [
    "Especificamente, con [scatter_mapbox](https://plotly.com/python/scattermapbox/) podemos crear un gráfico de dispersión superpuesto sobre el mapa de Ucrania. Cada fila de una data frame es representada por un punto o símbolo (marcador).\n",
    "\n",
    "Por ejemplo, para visualizar el primer evento de agresión registrado como parte de la estrategia Rusa en el conflicto con Ucrania, podemos usar `px.scatter_mapbox`.\n",
    "\n",
    "```Python\n",
    "px.scatter_mapbox(lon =,          # datos de longitud\n",
    "                  lat =,          # datos de latitud\n",
    "                  mapbox_style =, # estilo del mapbox\n",
    "                  zoom =,         # zoom\n",
    "                  size =          # tamaño del marcador\n",
    "                 )\n",
    "```"
   ]
  },
  {
   "cell_type": "code",
   "execution_count": 139,
   "id": "b98fd9c9-c687-497c-b9ed-7482b51ebf65",
   "metadata": {},
   "outputs": [
    {
     "data": {
      "application/vnd.plotly.v1+json": {
       "config": {
        "plotlyServerURL": "https://plot.ly"
       },
       "data": [
        {
         "hovertemplate": "size=%{marker.size}<br>lat=%{lat}<br>lon=%{lon}<extra></extra>",
         "lat": [
          49.85005,
          48.748564,
          50.470055,
          47.775537,
          47.116736,
          47.120812,
          48.050732,
          50.308065,
          48.054917,
          50.405126,
          50.517921,
          49.987116,
          49.990482,
          50.546217,
          50.447934,
          50.046871,
          50.309014,
          50.485573,
          50.043216,
          46.638598,
          46.608638,
          46.83952,
          50.553812,
          50.514734,
          50.003401,
          50.04807,
          50.101774,
          50.42217,
          51.524277,
          47.180475,
          46.742547,
          50.65881,
          50.450816,
          50.026039,
          49.590963,
          50.481478,
          48.942935,
          50.481122,
          47.251619,
          50.009975,
          51.490932,
          51.490216,
          46.963574,
          49.624973,
          49.178651,
          50.003344,
          50.029094,
          47.612571,
          50.305984,
          50.017367,
          50.032544,
          50.031543,
          50.034356,
          50.032432,
          50.925402,
          50.003296,
          49.271101,
          50.020431,
          49.927375,
          49.211889,
          48.957226,
          48.914812,
          50.00382,
          50.514881,
          46.678874,
          50.463479,
          50.020018,
          50.540456,
          50.189135,
          50.188812,
          51.314043,
          50.026284,
          50.929696,
          50.02589,
          46.584286,
          46.670911,
          50.639733,
          50.639371,
          47.110998,
          49.949748,
          50.02564,
          50.471321,
          50.641922,
          47.10989,
          49.998385,
          50.541524,
          46.658512,
          49.930557,
          49.937728,
          48.920794,
          48.952449,
          50.639698,
          49.989588,
          50.020782,
          48.939691,
          48.335035,
          50.457029,
          49.190128,
          49.989733,
          50.184244,
          50.00768,
          47.09798,
          48.862155,
          50.367839,
          51.500055,
          51.499794,
          50.030499,
          50.642728,
          47.977043,
          50.031408,
          50.01637,
          50.251238,
          50.00358,
          48.941202,
          47.10472,
          50.028341,
          50.574281,
          49.804617,
          49.536343,
          48.942209,
          50.024612,
          50.957884,
          50.08927,
          49.242345,
          50.4896,
          50.041031,
          50.033648,
          51.330196,
          50.041575,
          50.655189,
          50.060738,
          50.058874,
          50.766974,
          50.035729,
          49.98732,
          46.672852,
          50.703613,
          50.025893,
          50.02589,
          46.639039,
          50.004544,
          50.021807,
          50.043435,
          50.034931,
          50.028525,
          50.439808,
          50.522349,
          47.506362,
          50.434676,
          50.421482,
          49.982676,
          49.980342,
          50.041001,
          49.987929,
          50.04056,
          47.661606,
          46.942366,
          50.897377,
          49.189041,
          50.007422,
          48.514479,
          50.044042,
          46.842284,
          49.980002,
          50.004094,
          50.304197,
          50.497276,
          50.028458,
          47.007301,
          49.19044,
          50.032571,
          47.104074,
          47.096337,
          47.700147,
          47.097234,
          47.095335,
          49.987587,
          50.523182,
          48.476616,
          47.093036,
          50.308956,
          47.097156,
          47.125216,
          47.107327,
          49.03255,
          51.525125,
          50.480571,
          47.016301,
          49.96525,
          50.528701,
          48.035791,
          47.106422,
          50.573394,
          49.028373,
          50.490646,
          50.614717,
          50.522629,
          48.720916,
          50.003036,
          50.599258,
          48.008846,
          50.488818,
          50.540571,
          46.95761,
          46.959675,
          46.944035,
          51.501931,
          48.63053,
          48.872075,
          49.196101,
          50.439532,
          49.993108,
          50.591922,
          49.984777,
          50.034454,
          50.501995,
          48.324982,
          47.97635,
          48.29455,
          48.038535,
          48.045383,
          47.921505,
          48.057841,
          48.054767,
          48.029281,
          47.946399,
          47.993138,
          50.457284,
          49.992987,
          49.988001,
          47.095672,
          47.103718,
          51.518689,
          50.022909,
          48.044642,
          49.241217,
          49.81721,
          50.000756,
          46.806113,
          46.93802,
          50.509804,
          48.141068,
          47.946758,
          49.989901,
          47.173635,
          47.104517,
          50.430225,
          51.203886,
          50.461255,
          51.469385,
          47.108852,
          47.103769,
          47.11691,
          50.502264,
          46.640093,
          50.861709,
          46.973135,
          47.119206,
          50.02505,
          50.022011,
          50.020272,
          50.002135,
          47.101232,
          47.941011,
          46.97228,
          47.100353,
          47.111935,
          47.106742,
          50.01043,
          48.891986,
          47.10183,
          47.077747,
          47.067413,
          47.103264,
          48.140036,
          47.097866,
          50.017508,
          51.458341,
          50.036329,
          50.561924,
          47.125855,
          48.7507,
          48.747557,
          50.471605,
          46.950486,
          50.571763,
          51.5212,
          47.099801,
          49.806165,
          50.040068,
          48.059573,
          47.949682,
          47.098194,
          50.533503,
          50.005954,
          49.956708,
          49.999849,
          49.02017,
          49.1691,
          48.643172,
          49.927498,
          48.132279,
          49.125892,
          46.974358,
          49.859362,
          50.022088,
          49.038522,
          50.473048,
          51.493886,
          47.098235,
          48.861611,
          50.27618,
          47.949548,
          49.97202,
          47.105785,
          47.114526,
          50.041061,
          47.145081,
          47.127326,
          47.151459,
          50.037571,
          50.596225,
          50.53345,
          50.541792,
          47.498711,
          48.589221,
          50.439658,
          50.563877,
          50.547634,
          49.145932,
          46.756069,
          47.012606,
          50.021923,
          50.017452,
          46.942613,
          46.858295,
          46.94945,
          46.940311,
          46.944265,
          46.85514,
          47.09274,
          47.091139,
          47.120629,
          47.096182,
          47.162368,
          50.643323,
          50.54077,
          50.640764,
          50.639734,
          47.593322,
          50.565487,
          47.780497,
          50.547457,
          48.996756,
          46.517609,
          48.94546,
          46.94073,
          46.950069,
          48.725484,
          50.532282,
          48.998095,
          49.830019,
          49.96184,
          51.452662,
          50.016533,
          50.048365,
          49.982218,
          50.309573,
          50.429563,
          50.472607,
          48.835248,
          49.946453,
          50.025088,
          49.919258,
          49.830096,
          50.461407,
          50.52186,
          48.724463,
          47.748417,
          50.64273,
          47.099313,
          50.540108,
          52.383736,
          46.960921,
          47.110105,
          46.956985,
          47.107504,
          50.566455,
          47.023246,
          50.019365,
          46.940977,
          50.009843,
          49.948588,
          47.09053,
          49.95106,
          49.998302,
          50.013798,
          47.411049,
          49.826672,
          46.943954,
          46.413473,
          48.965196,
          47.061541,
          46.838666,
          47.0458,
          49.986493,
          46.971944,
          51.502113,
          48.965447,
          49.965916,
          48.032282,
          47.098103,
          47.151775,
          47.053518,
          47.864712,
          50.009391,
          46.074752,
          46.638979,
          47.094456,
          47.105129,
          47.934667,
          49.840242,
          50.024666,
          47.832506,
          49.830549,
          47.863893,
          47.976889,
          46.990872,
          46.842903,
          48.889019,
          46.410176,
          48.488495,
          46.564114,
          49.983595,
          49.935723,
          49.976591,
          46.562757,
          49.988041,
          49.984352,
          50.038541,
          50.020498,
          49.932311,
          49.342847,
          48.992607,
          48.941507
         ],
         "legendgroup": "",
         "lon": [
          36.659031,
          30.218515,
          30.527381,
          37.239601,
          37.684468,
          37.680896,
          37.777318,
          34.880457,
          37.777822,
          30.644991,
          30.489868,
          36.261098,
          36.267443,
          30.20572,
          30.476193,
          36.354415,
          34.869037,
          30.472797,
          36.355272,
          32.610175,
          32.844773,
          35.370967,
          30.274272,
          30.227499,
          36.256498,
          36.188935,
          36.280238,
          30.46481,
          31.325445,
          37.697935,
          32.716787,
          29.966006,
          30.480674,
          36.364213,
          36.992584,
          30.458893,
          38.500602,
          34.968007,
          34.332433,
          36.285385,
          31.296623,
          31.294106,
          32.026989,
          36.63978,
          37.28665,
          36.332028,
          36.357679,
          37.487373,
          34.879598,
          36.212218,
          36.236532,
          36.23626,
          36.237958,
          36.238577,
          29.876575,
          36.330222,
          38.90888,
          36.372477,
          36.432939,
          38.905691,
          38.50357,
          38.429436,
          36.23591,
          30.598049,
          32.613894,
          29.795807,
          36.346685,
          30.173602,
          30.310636,
          30.311921,
          26.096582,
          36.20691,
          29.905967,
          36.36422,
          30.553615,
          32.609178,
          29.917397,
          29.919503,
          37.512722,
          36.156047,
          36.258106,
          30.45342,
          29.929294,
          37.552784,
          36.23507,
          30.263952,
          32.571421,
          36.415885,
          36.40341,
          38.402965,
          38.358095,
          29.918183,
          36.232128,
          36.327713,
          38.500354,
          38.08337,
          30.592146,
          37.277762,
          36.232544,
          36.119262,
          36.237758,
          37.502158,
          38.478099,
          30.39436,
          31.246599,
          31.278018,
          36.284067,
          29.93281,
          37.698301,
          36.253556,
          36.354336,
          28.663794,
          36.236976,
          38.493199,
          37.635406,
          36.345121,
          30.263871,
          30.096714,
          39.105627,
          38.495751,
          36.339788,
          28.611697,
          36.255799,
          28.603789,
          30.259741,
          36.357721,
          36.366211,
          28.800319,
          36.359368,
          31.072859,
          36.20195,
          36.199306,
          29.242099,
          36.230024,
          36.244451,
          32.643839,
          31.150294,
          36.341599,
          36.240612,
          32.627524,
          36.237484,
          36.350644,
          36.325147,
          36.368948,
          36.344855,
          30.294673,
          30.226315,
          34.584835,
          30.08831,
          30.045119,
          36.197584,
          36.176673,
          36.357136,
          36.244345,
          36.226122,
          36.251095,
          32.035242,
          34.767084,
          37.273548,
          36.237555,
          39.299536,
          36.278536,
          32.004581,
          36.359748,
          36.237394,
          34.893434,
          31.258481,
          36.367133,
          31.998979,
          37.273879,
          36.348191,
          37.560414,
          37.533483,
          36.825683,
          37.53531,
          37.541657,
          36.245777,
          30.983082,
          34.979459,
          37.559418,
          34.878604,
          37.543105,
          37.683539,
          37.518009,
          38.372778,
          31.329635,
          34.96513,
          32.000487,
          36.345139,
          30.847491,
          37.771516,
          37.516061,
          30.267032,
          37.566533,
          30.258315,
          30.292116,
          30.486276,
          37.511522,
          36.237578,
          26.420979,
          37.803819,
          30.467752,
          30.263744,
          32.036305,
          32.036093,
          32.046613,
          31.324563,
          38.37202,
          38.438306,
          37.275429,
          30.146396,
          36.222918,
          30.939389,
          36.238149,
          36.345757,
          30.449287,
          38.137056,
          37.697215,
          37.988999,
          37.79508,
          37.790413,
          37.57133,
          37.77948,
          37.777684,
          37.719078,
          37.602613,
          37.68033,
          30.343357,
          36.222981,
          36.340323,
          37.547689,
          37.643805,
          31.32626,
          36.339813,
          37.972161,
          28.423551,
          36.054678,
          36.299775,
          32.265175,
          32.039656,
          30.432136,
          37.891907,
          37.602972,
          36.25703,
          37.555096,
          37.589405,
          30.02996,
          29.48612,
          29.811025,
          31.25735,
          37.560537,
          37.553122,
          37.524025,
          30.417336,
          32.614286,
          34.906519,
          32.017079,
          37.518714,
          36.343636,
          36.330176,
          36.216903,
          36.328399,
          37.63452,
          37.503053,
          32.002463,
          37.653901,
          37.522973,
          37.548164,
          36.285868,
          36.298041,
          37.669324,
          37.458624,
          37.482784,
          37.534183,
          37.736745,
          37.633192,
          36.185651,
          31.300378,
          36.356585,
          30.270968,
          37.666107,
          39.182216,
          39.261767,
          30.403002,
          32.032563,
          30.279152,
          31.361809,
          37.523574,
          36.070546,
          36.226239,
          37.776128,
          37.692484,
          37.633464,
          30.233161,
          36.314947,
          36.365906,
          36.234382,
          38.362518,
          37.454037,
          38.403331,
          36.256398,
          37.804592,
          37.295548,
          31.996866,
          24.055318,
          36.372189,
          38.373206,
          34.958082,
          31.2944,
          37.567275,
          38.488764,
          35.975901,
          37.701739,
          36.228743,
          37.642168,
          37.526401,
          36.35823,
          37.618651,
          37.675976,
          37.73134,
          36.347177,
          36.665545,
          30.209858,
          30.230048,
          34.6559,
          37.991076,
          30.147794,
          30.212217,
          30.204976,
          37.243932,
          33.380775,
          31.997083,
          36.341202,
          36.240513,
          32.054789,
          32.016879,
          31.934217,
          32.045022,
          32.045972,
          32.014288,
          37.519313,
          37.522406,
          37.524948,
          37.545509,
          37.612348,
          29.931436,
          30.228631,
          29.92111,
          29.917985,
          37.499719,
          30.269901,
          37.25353,
          30.248761,
          38.416786,
          30.717606,
          38.48591,
          32.045064,
          32.021044,
          37.542995,
          30.21152,
          38.402376,
          36.331692,
          36.12113,
          31.233521,
          36.206313,
          36.186166,
          36.35922,
          34.873982,
          30.027084,
          29.870435,
          37.389836,
          36.269204,
          36.21226,
          36.274519,
          36.331843,
          29.811241,
          30.226985,
          38.631261,
          37.302061,
          29.93265,
          37.628353,
          30.355668,
          32.202152,
          32.036531,
          37.562466,
          32.06965,
          37.627784,
          30.319546,
          31.995763,
          36.359396,
          32.038591,
          36.239823,
          36.379819,
          37.526123,
          36.376356,
          36.240748,
          36.348112,
          32.423536,
          23.9886,
          31.935462,
          30.725053,
          37.809921,
          37.510252,
          29.622026,
          37.485264,
          36.25894,
          32.00229,
          31.325033,
          37.811046,
          36.008585,
          38.493529,
          37.578318,
          37.604025,
          37.489768,
          35.125731,
          36.242813,
          30.468398,
          32.614123,
          37.538575,
          37.63322,
          37.492673,
          23.995009,
          36.334299,
          35.093718,
          36.691383,
          35.12337,
          37.69511,
          32.111262,
          35.373279,
          38.470816,
          30.699853,
          35.028385,
          30.834789,
          36.277739,
          36.251288,
          36.200946,
          30.8294,
          36.245537,
          36.35136,
          36.245226,
          36.239983,
          36.439195,
          37.527481,
          37.443586,
          37.456383
         ],
         "marker": {
          "color": "#636efa",
          "size": [
           100,
           101,
           102,
           103,
           104,
           105,
           106,
           107,
           108,
           109,
           110,
           111,
           112,
           113,
           114,
           115,
           116,
           117,
           118,
           119,
           120,
           121,
           122,
           123,
           124,
           125,
           126,
           127,
           128,
           129,
           130,
           131,
           132,
           133,
           134,
           135,
           136,
           137,
           138,
           139,
           140,
           141,
           142,
           143,
           144,
           145,
           146,
           147,
           148,
           149,
           150,
           151,
           152,
           153,
           154,
           155,
           156,
           157,
           158,
           159,
           160,
           161,
           162,
           163,
           164,
           165,
           166,
           167,
           168,
           169,
           170,
           171,
           172,
           173,
           174,
           175,
           176,
           177,
           178,
           179,
           180,
           181,
           182,
           183,
           184,
           185,
           186,
           187,
           188,
           189,
           190,
           191,
           192,
           193,
           194,
           195,
           196,
           197,
           198,
           199,
           200,
           201,
           202,
           203,
           204,
           205,
           206,
           207,
           208,
           209,
           210,
           211,
           212,
           213,
           214,
           215,
           216,
           217,
           218,
           219,
           220,
           221,
           222,
           223,
           224,
           225,
           226,
           227,
           228,
           229,
           230,
           231,
           232,
           233,
           234,
           235,
           236,
           237,
           238,
           239,
           240,
           241,
           242,
           243,
           244,
           245,
           246,
           247,
           248,
           249,
           250,
           251,
           252,
           253,
           254,
           255,
           256,
           257,
           258,
           259,
           260,
           261,
           262,
           263,
           264,
           265,
           266,
           267,
           268,
           269,
           270,
           271,
           272,
           273,
           274,
           275,
           276,
           277,
           278,
           279,
           280,
           281,
           282,
           283,
           284,
           285,
           286,
           287,
           288,
           289,
           290,
           291,
           292,
           293,
           294,
           295,
           296,
           297,
           298,
           299,
           300,
           301,
           302,
           303,
           304,
           305,
           306,
           307,
           308,
           309,
           310,
           311,
           312,
           313,
           314,
           315,
           316,
           317,
           318,
           319,
           320,
           321,
           322,
           323,
           324,
           325,
           326,
           327,
           328,
           329,
           330,
           331,
           332,
           333,
           334,
           335,
           336,
           337,
           338,
           339,
           340,
           341,
           342,
           343,
           344,
           345,
           346,
           347,
           348,
           349,
           350,
           351,
           352,
           353,
           354,
           355,
           356,
           357,
           358,
           359,
           360,
           361,
           362,
           363,
           364,
           365,
           366,
           367,
           368,
           369,
           370,
           371,
           372,
           373,
           374,
           375,
           376,
           377,
           378,
           379,
           380,
           381,
           382,
           383,
           384,
           385,
           386,
           387,
           388,
           389,
           390,
           391,
           392,
           393,
           394,
           395,
           396,
           397,
           398,
           399,
           400,
           401,
           402,
           403,
           404,
           405,
           406,
           407,
           408,
           409,
           410,
           411,
           412,
           413,
           414,
           415,
           416,
           417,
           418,
           419,
           420,
           421,
           422,
           423,
           424,
           425,
           426,
           427,
           428,
           429,
           430,
           431,
           432,
           433,
           434,
           435,
           436,
           437,
           438,
           439,
           440,
           441,
           442,
           443,
           444,
           445,
           446,
           447,
           448,
           449,
           450,
           451,
           452,
           453,
           454,
           455,
           456,
           457,
           458,
           459,
           460,
           461,
           462,
           463,
           464,
           465,
           466,
           467,
           468,
           469,
           470,
           471,
           472,
           473,
           474,
           475,
           476,
           477,
           478,
           479,
           480,
           481,
           482,
           483,
           484,
           485,
           486,
           487,
           488,
           489,
           490,
           491,
           492,
           493,
           494,
           495,
           496,
           497,
           498,
           499,
           500,
           501,
           502,
           503,
           504,
           505,
           506,
           507,
           508,
           509,
           510,
           511,
           512,
           513,
           514,
           515,
           516,
           517,
           518,
           519,
           520,
           521,
           522,
           523,
           524,
           525,
           526,
           527,
           528,
           529,
           530,
           531,
           532,
           533,
           534,
           535,
           536,
           537,
           538,
           539,
           540,
           541,
           542,
           543,
           544
          ],
          "sizemode": "area",
          "sizeref": 1.36
         },
         "mode": "markers",
         "name": "",
         "showlegend": false,
         "subplot": "mapbox",
         "type": "scattermapbox"
        }
       ],
       "layout": {
        "legend": {
         "itemsizing": "constant",
         "tracegroupgap": 0
        },
        "mapbox": {
         "center": {
          "lat": 49.10389987640449,
          "lon": 34.74101281797753
         },
         "domain": {
          "x": [
           0,
           1
          ],
          "y": [
           0,
           1
          ]
         },
         "style": "open-street-map",
         "zoom": 3
        },
        "margin": {
         "t": 60
        },
        "template": {
         "data": {
          "bar": [
           {
            "error_x": {
             "color": "#2a3f5f"
            },
            "error_y": {
             "color": "#2a3f5f"
            },
            "marker": {
             "line": {
              "color": "#E5ECF6",
              "width": 0.5
             },
             "pattern": {
              "fillmode": "overlay",
              "size": 10,
              "solidity": 0.2
             }
            },
            "type": "bar"
           }
          ],
          "barpolar": [
           {
            "marker": {
             "line": {
              "color": "#E5ECF6",
              "width": 0.5
             },
             "pattern": {
              "fillmode": "overlay",
              "size": 10,
              "solidity": 0.2
             }
            },
            "type": "barpolar"
           }
          ],
          "carpet": [
           {
            "aaxis": {
             "endlinecolor": "#2a3f5f",
             "gridcolor": "white",
             "linecolor": "white",
             "minorgridcolor": "white",
             "startlinecolor": "#2a3f5f"
            },
            "baxis": {
             "endlinecolor": "#2a3f5f",
             "gridcolor": "white",
             "linecolor": "white",
             "minorgridcolor": "white",
             "startlinecolor": "#2a3f5f"
            },
            "type": "carpet"
           }
          ],
          "choropleth": [
           {
            "colorbar": {
             "outlinewidth": 0,
             "ticks": ""
            },
            "type": "choropleth"
           }
          ],
          "contour": [
           {
            "colorbar": {
             "outlinewidth": 0,
             "ticks": ""
            },
            "colorscale": [
             [
              0,
              "#0d0887"
             ],
             [
              0.1111111111111111,
              "#46039f"
             ],
             [
              0.2222222222222222,
              "#7201a8"
             ],
             [
              0.3333333333333333,
              "#9c179e"
             ],
             [
              0.4444444444444444,
              "#bd3786"
             ],
             [
              0.5555555555555556,
              "#d8576b"
             ],
             [
              0.6666666666666666,
              "#ed7953"
             ],
             [
              0.7777777777777778,
              "#fb9f3a"
             ],
             [
              0.8888888888888888,
              "#fdca26"
             ],
             [
              1,
              "#f0f921"
             ]
            ],
            "type": "contour"
           }
          ],
          "contourcarpet": [
           {
            "colorbar": {
             "outlinewidth": 0,
             "ticks": ""
            },
            "type": "contourcarpet"
           }
          ],
          "heatmap": [
           {
            "colorbar": {
             "outlinewidth": 0,
             "ticks": ""
            },
            "colorscale": [
             [
              0,
              "#0d0887"
             ],
             [
              0.1111111111111111,
              "#46039f"
             ],
             [
              0.2222222222222222,
              "#7201a8"
             ],
             [
              0.3333333333333333,
              "#9c179e"
             ],
             [
              0.4444444444444444,
              "#bd3786"
             ],
             [
              0.5555555555555556,
              "#d8576b"
             ],
             [
              0.6666666666666666,
              "#ed7953"
             ],
             [
              0.7777777777777778,
              "#fb9f3a"
             ],
             [
              0.8888888888888888,
              "#fdca26"
             ],
             [
              1,
              "#f0f921"
             ]
            ],
            "type": "heatmap"
           }
          ],
          "heatmapgl": [
           {
            "colorbar": {
             "outlinewidth": 0,
             "ticks": ""
            },
            "colorscale": [
             [
              0,
              "#0d0887"
             ],
             [
              0.1111111111111111,
              "#46039f"
             ],
             [
              0.2222222222222222,
              "#7201a8"
             ],
             [
              0.3333333333333333,
              "#9c179e"
             ],
             [
              0.4444444444444444,
              "#bd3786"
             ],
             [
              0.5555555555555556,
              "#d8576b"
             ],
             [
              0.6666666666666666,
              "#ed7953"
             ],
             [
              0.7777777777777778,
              "#fb9f3a"
             ],
             [
              0.8888888888888888,
              "#fdca26"
             ],
             [
              1,
              "#f0f921"
             ]
            ],
            "type": "heatmapgl"
           }
          ],
          "histogram": [
           {
            "marker": {
             "pattern": {
              "fillmode": "overlay",
              "size": 10,
              "solidity": 0.2
             }
            },
            "type": "histogram"
           }
          ],
          "histogram2d": [
           {
            "colorbar": {
             "outlinewidth": 0,
             "ticks": ""
            },
            "colorscale": [
             [
              0,
              "#0d0887"
             ],
             [
              0.1111111111111111,
              "#46039f"
             ],
             [
              0.2222222222222222,
              "#7201a8"
             ],
             [
              0.3333333333333333,
              "#9c179e"
             ],
             [
              0.4444444444444444,
              "#bd3786"
             ],
             [
              0.5555555555555556,
              "#d8576b"
             ],
             [
              0.6666666666666666,
              "#ed7953"
             ],
             [
              0.7777777777777778,
              "#fb9f3a"
             ],
             [
              0.8888888888888888,
              "#fdca26"
             ],
             [
              1,
              "#f0f921"
             ]
            ],
            "type": "histogram2d"
           }
          ],
          "histogram2dcontour": [
           {
            "colorbar": {
             "outlinewidth": 0,
             "ticks": ""
            },
            "colorscale": [
             [
              0,
              "#0d0887"
             ],
             [
              0.1111111111111111,
              "#46039f"
             ],
             [
              0.2222222222222222,
              "#7201a8"
             ],
             [
              0.3333333333333333,
              "#9c179e"
             ],
             [
              0.4444444444444444,
              "#bd3786"
             ],
             [
              0.5555555555555556,
              "#d8576b"
             ],
             [
              0.6666666666666666,
              "#ed7953"
             ],
             [
              0.7777777777777778,
              "#fb9f3a"
             ],
             [
              0.8888888888888888,
              "#fdca26"
             ],
             [
              1,
              "#f0f921"
             ]
            ],
            "type": "histogram2dcontour"
           }
          ],
          "mesh3d": [
           {
            "colorbar": {
             "outlinewidth": 0,
             "ticks": ""
            },
            "type": "mesh3d"
           }
          ],
          "parcoords": [
           {
            "line": {
             "colorbar": {
              "outlinewidth": 0,
              "ticks": ""
             }
            },
            "type": "parcoords"
           }
          ],
          "pie": [
           {
            "automargin": true,
            "type": "pie"
           }
          ],
          "scatter": [
           {
            "fillpattern": {
             "fillmode": "overlay",
             "size": 10,
             "solidity": 0.2
            },
            "type": "scatter"
           }
          ],
          "scatter3d": [
           {
            "line": {
             "colorbar": {
              "outlinewidth": 0,
              "ticks": ""
             }
            },
            "marker": {
             "colorbar": {
              "outlinewidth": 0,
              "ticks": ""
             }
            },
            "type": "scatter3d"
           }
          ],
          "scattercarpet": [
           {
            "marker": {
             "colorbar": {
              "outlinewidth": 0,
              "ticks": ""
             }
            },
            "type": "scattercarpet"
           }
          ],
          "scattergeo": [
           {
            "marker": {
             "colorbar": {
              "outlinewidth": 0,
              "ticks": ""
             }
            },
            "type": "scattergeo"
           }
          ],
          "scattergl": [
           {
            "marker": {
             "colorbar": {
              "outlinewidth": 0,
              "ticks": ""
             }
            },
            "type": "scattergl"
           }
          ],
          "scattermapbox": [
           {
            "marker": {
             "colorbar": {
              "outlinewidth": 0,
              "ticks": ""
             }
            },
            "type": "scattermapbox"
           }
          ],
          "scatterpolar": [
           {
            "marker": {
             "colorbar": {
              "outlinewidth": 0,
              "ticks": ""
             }
            },
            "type": "scatterpolar"
           }
          ],
          "scatterpolargl": [
           {
            "marker": {
             "colorbar": {
              "outlinewidth": 0,
              "ticks": ""
             }
            },
            "type": "scatterpolargl"
           }
          ],
          "scatterternary": [
           {
            "marker": {
             "colorbar": {
              "outlinewidth": 0,
              "ticks": ""
             }
            },
            "type": "scatterternary"
           }
          ],
          "surface": [
           {
            "colorbar": {
             "outlinewidth": 0,
             "ticks": ""
            },
            "colorscale": [
             [
              0,
              "#0d0887"
             ],
             [
              0.1111111111111111,
              "#46039f"
             ],
             [
              0.2222222222222222,
              "#7201a8"
             ],
             [
              0.3333333333333333,
              "#9c179e"
             ],
             [
              0.4444444444444444,
              "#bd3786"
             ],
             [
              0.5555555555555556,
              "#d8576b"
             ],
             [
              0.6666666666666666,
              "#ed7953"
             ],
             [
              0.7777777777777778,
              "#fb9f3a"
             ],
             [
              0.8888888888888888,
              "#fdca26"
             ],
             [
              1,
              "#f0f921"
             ]
            ],
            "type": "surface"
           }
          ],
          "table": [
           {
            "cells": {
             "fill": {
              "color": "#EBF0F8"
             },
             "line": {
              "color": "white"
             }
            },
            "header": {
             "fill": {
              "color": "#C8D4E3"
             },
             "line": {
              "color": "white"
             }
            },
            "type": "table"
           }
          ]
         },
         "layout": {
          "annotationdefaults": {
           "arrowcolor": "#2a3f5f",
           "arrowhead": 0,
           "arrowwidth": 1
          },
          "autotypenumbers": "strict",
          "coloraxis": {
           "colorbar": {
            "outlinewidth": 0,
            "ticks": ""
           }
          },
          "colorscale": {
           "diverging": [
            [
             0,
             "#8e0152"
            ],
            [
             0.1,
             "#c51b7d"
            ],
            [
             0.2,
             "#de77ae"
            ],
            [
             0.3,
             "#f1b6da"
            ],
            [
             0.4,
             "#fde0ef"
            ],
            [
             0.5,
             "#f7f7f7"
            ],
            [
             0.6,
             "#e6f5d0"
            ],
            [
             0.7,
             "#b8e186"
            ],
            [
             0.8,
             "#7fbc41"
            ],
            [
             0.9,
             "#4d9221"
            ],
            [
             1,
             "#276419"
            ]
           ],
           "sequential": [
            [
             0,
             "#0d0887"
            ],
            [
             0.1111111111111111,
             "#46039f"
            ],
            [
             0.2222222222222222,
             "#7201a8"
            ],
            [
             0.3333333333333333,
             "#9c179e"
            ],
            [
             0.4444444444444444,
             "#bd3786"
            ],
            [
             0.5555555555555556,
             "#d8576b"
            ],
            [
             0.6666666666666666,
             "#ed7953"
            ],
            [
             0.7777777777777778,
             "#fb9f3a"
            ],
            [
             0.8888888888888888,
             "#fdca26"
            ],
            [
             1,
             "#f0f921"
            ]
           ],
           "sequentialminus": [
            [
             0,
             "#0d0887"
            ],
            [
             0.1111111111111111,
             "#46039f"
            ],
            [
             0.2222222222222222,
             "#7201a8"
            ],
            [
             0.3333333333333333,
             "#9c179e"
            ],
            [
             0.4444444444444444,
             "#bd3786"
            ],
            [
             0.5555555555555556,
             "#d8576b"
            ],
            [
             0.6666666666666666,
             "#ed7953"
            ],
            [
             0.7777777777777778,
             "#fb9f3a"
            ],
            [
             0.8888888888888888,
             "#fdca26"
            ],
            [
             1,
             "#f0f921"
            ]
           ]
          },
          "colorway": [
           "#636efa",
           "#EF553B",
           "#00cc96",
           "#ab63fa",
           "#FFA15A",
           "#19d3f3",
           "#FF6692",
           "#B6E880",
           "#FF97FF",
           "#FECB52"
          ],
          "font": {
           "color": "#2a3f5f"
          },
          "geo": {
           "bgcolor": "white",
           "lakecolor": "white",
           "landcolor": "#E5ECF6",
           "showlakes": true,
           "showland": true,
           "subunitcolor": "white"
          },
          "hoverlabel": {
           "align": "left"
          },
          "hovermode": "closest",
          "mapbox": {
           "style": "light"
          },
          "paper_bgcolor": "white",
          "plot_bgcolor": "#E5ECF6",
          "polar": {
           "angularaxis": {
            "gridcolor": "white",
            "linecolor": "white",
            "ticks": ""
           },
           "bgcolor": "#E5ECF6",
           "radialaxis": {
            "gridcolor": "white",
            "linecolor": "white",
            "ticks": ""
           }
          },
          "scene": {
           "xaxis": {
            "backgroundcolor": "#E5ECF6",
            "gridcolor": "white",
            "gridwidth": 2,
            "linecolor": "white",
            "showbackground": true,
            "ticks": "",
            "zerolinecolor": "white"
           },
           "yaxis": {
            "backgroundcolor": "#E5ECF6",
            "gridcolor": "white",
            "gridwidth": 2,
            "linecolor": "white",
            "showbackground": true,
            "ticks": "",
            "zerolinecolor": "white"
           },
           "zaxis": {
            "backgroundcolor": "#E5ECF6",
            "gridcolor": "white",
            "gridwidth": 2,
            "linecolor": "white",
            "showbackground": true,
            "ticks": "",
            "zerolinecolor": "white"
           }
          },
          "shapedefaults": {
           "line": {
            "color": "#2a3f5f"
           }
          },
          "ternary": {
           "aaxis": {
            "gridcolor": "white",
            "linecolor": "white",
            "ticks": ""
           },
           "baxis": {
            "gridcolor": "white",
            "linecolor": "white",
            "ticks": ""
           },
           "bgcolor": "#E5ECF6",
           "caxis": {
            "gridcolor": "white",
            "linecolor": "white",
            "ticks": ""
           }
          },
          "title": {
           "x": 0.05
          },
          "xaxis": {
           "automargin": true,
           "gridcolor": "white",
           "linecolor": "white",
           "ticks": "",
           "title": {
            "standoff": 15
           },
           "zerolinecolor": "white",
           "zerolinewidth": 2
          },
          "yaxis": {
           "automargin": true,
           "gridcolor": "white",
           "linecolor": "white",
           "ticks": "",
           "title": {
            "standoff": 15
           },
           "zerolinecolor": "white",
           "zerolinewidth": 2
          }
         }
        }
       }
      }
     },
     "metadata": {},
     "output_type": "display_data"
    }
   ],
   "source": [
    "px.scatter_mapbox(lon=df['longitude'], lat=df['latitude'], mapbox_style='open-street-map', zoom=3, size=df.index+100)"
   ]
  },
  {
   "cell_type": "markdown",
   "id": "5049ea0e-6b09-45b4-b756-dbe592c231eb",
   "metadata": {},
   "source": [
    "De esta forma podemos visualizar de forma interactiva la información disponible en nuestra base da datos.\n",
    "\n",
    "---"
   ]
  },
  {
   "cell_type": "markdown",
   "id": "c42110a3",
   "metadata": {},
   "source": [
    "Para hacer de una forma mas organizada la interpretación del mapa, creamos funciones para que al usuario le sea facil el filtrar la información que este considere relevante."
   ]
  },
  {
   "cell_type": "markdown",
   "id": "e1e100cb",
   "metadata": {},
   "source": [
    "Filtrado por fecha\n",
    "\n",
    "Para que sea posible para el usuario filtrar los datos para visualizar los acontecimientos en una fecha específica, se crea un DataFrame aparte que ilustre los datos filtrados, para esto la librería pandas tiene un método que nos permite darle al programa un rango de fechas.  - df.loc() - El cual delimitará nuestros datos\n"
   ]
  },
  {
   "cell_type": "code",
   "execution_count": 165,
   "id": "1ddc88b6",
   "metadata": {},
   "outputs": [],
   "source": [
    "def visualizar_por_fecha_especifica():\n",
    "\n",
    "        z=input(\"Responda Si o No\\n ¿Le interesa saber los bombardeos ocurridos en una fecha específica\")\n",
    "        if z==\"Si\" or z==\"si\":\n",
    "\n",
    "                a=input(\"ingrese la fecha en formato M/D/A\")\n",
    "                filteredfechaesp_df = df.loc[df[\"date\"].between(a, a)]\n",
    "        \n",
    "                b=px.scatter_mapbox(lon=filteredfechaesp_df['longitude'], lat=filteredfechaesp_df['latitude'], mapbox_style='open-street-map', zoom=3, size=filteredfechaesp_df.index+100)\n",
    "                \n",
    "                return b\n",
    "        elif z==\"No\" or z==\"no\":\n",
    "                j=input(\"ingrese la fecha desde donde quiere empezar a analizar, en formato M/D/A\")\n",
    "                h =input(\"Ingrese la fecha limite hasta donde quiere usted hacer la visualización\")\n",
    "                filteredfechaesp_df = df.loc[df[\"date\"].between(j, h)]\n",
    "        \n",
    "                b=px.scatter_mapbox(lon=filteredfechaesp_df['longitude'], lat=filteredfechaesp_df['latitude'], mapbox_style='open-street-map', zoom=3, size=filteredfechaesp_df.index+100)\n",
    "                return b\n",
    "        \n",
    "\n",
    "\n",
    "\n",
    "\n",
    "        "
   ]
  },
  {
   "cell_type": "code",
   "execution_count": 222,
   "id": "3cfe8f74",
   "metadata": {},
   "outputs": [
    {
     "data": {
      "application/vnd.plotly.v1+json": {
       "config": {
        "plotlyServerURL": "https://plot.ly"
       },
       "data": [
        {
         "hovertemplate": "size=%{marker.size}<br>lat=%{lat}<br>lon=%{lon}<extra></extra>",
         "lat": [
          49.85005,
          48.748564,
          50.470055,
          47.775537,
          47.116736,
          47.120812,
          48.050732,
          50.308065,
          48.054917,
          49.211889
         ],
         "legendgroup": "",
         "lon": [
          36.659031,
          30.218515,
          30.527381,
          37.239601,
          37.684468,
          37.680896,
          37.777318,
          34.880457,
          37.777822,
          38.905691
         ],
         "marker": {
          "color": "#636efa",
          "size": [
           100,
           101,
           102,
           103,
           104,
           105,
           106,
           107,
           108,
           159
          ],
          "sizemode": "area",
          "sizeref": 0.3975
         },
         "mode": "markers",
         "name": "",
         "showlegend": false,
         "subplot": "mapbox",
         "type": "scattermapbox"
        }
       ],
       "layout": {
        "legend": {
         "itemsizing": "constant",
         "tracegroupgap": 0
        },
        "mapbox": {
         "center": {
          "lat": 48.6707357,
          "lon": 35.935118
         },
         "domain": {
          "x": [
           0,
           1
          ],
          "y": [
           0,
           1
          ]
         },
         "style": "open-street-map",
         "zoom": 3
        },
        "margin": {
         "t": 60
        },
        "template": {
         "data": {
          "bar": [
           {
            "error_x": {
             "color": "#2a3f5f"
            },
            "error_y": {
             "color": "#2a3f5f"
            },
            "marker": {
             "line": {
              "color": "#E5ECF6",
              "width": 0.5
             },
             "pattern": {
              "fillmode": "overlay",
              "size": 10,
              "solidity": 0.2
             }
            },
            "type": "bar"
           }
          ],
          "barpolar": [
           {
            "marker": {
             "line": {
              "color": "#E5ECF6",
              "width": 0.5
             },
             "pattern": {
              "fillmode": "overlay",
              "size": 10,
              "solidity": 0.2
             }
            },
            "type": "barpolar"
           }
          ],
          "carpet": [
           {
            "aaxis": {
             "endlinecolor": "#2a3f5f",
             "gridcolor": "white",
             "linecolor": "white",
             "minorgridcolor": "white",
             "startlinecolor": "#2a3f5f"
            },
            "baxis": {
             "endlinecolor": "#2a3f5f",
             "gridcolor": "white",
             "linecolor": "white",
             "minorgridcolor": "white",
             "startlinecolor": "#2a3f5f"
            },
            "type": "carpet"
           }
          ],
          "choropleth": [
           {
            "colorbar": {
             "outlinewidth": 0,
             "ticks": ""
            },
            "type": "choropleth"
           }
          ],
          "contour": [
           {
            "colorbar": {
             "outlinewidth": 0,
             "ticks": ""
            },
            "colorscale": [
             [
              0,
              "#0d0887"
             ],
             [
              0.1111111111111111,
              "#46039f"
             ],
             [
              0.2222222222222222,
              "#7201a8"
             ],
             [
              0.3333333333333333,
              "#9c179e"
             ],
             [
              0.4444444444444444,
              "#bd3786"
             ],
             [
              0.5555555555555556,
              "#d8576b"
             ],
             [
              0.6666666666666666,
              "#ed7953"
             ],
             [
              0.7777777777777778,
              "#fb9f3a"
             ],
             [
              0.8888888888888888,
              "#fdca26"
             ],
             [
              1,
              "#f0f921"
             ]
            ],
            "type": "contour"
           }
          ],
          "contourcarpet": [
           {
            "colorbar": {
             "outlinewidth": 0,
             "ticks": ""
            },
            "type": "contourcarpet"
           }
          ],
          "heatmap": [
           {
            "colorbar": {
             "outlinewidth": 0,
             "ticks": ""
            },
            "colorscale": [
             [
              0,
              "#0d0887"
             ],
             [
              0.1111111111111111,
              "#46039f"
             ],
             [
              0.2222222222222222,
              "#7201a8"
             ],
             [
              0.3333333333333333,
              "#9c179e"
             ],
             [
              0.4444444444444444,
              "#bd3786"
             ],
             [
              0.5555555555555556,
              "#d8576b"
             ],
             [
              0.6666666666666666,
              "#ed7953"
             ],
             [
              0.7777777777777778,
              "#fb9f3a"
             ],
             [
              0.8888888888888888,
              "#fdca26"
             ],
             [
              1,
              "#f0f921"
             ]
            ],
            "type": "heatmap"
           }
          ],
          "heatmapgl": [
           {
            "colorbar": {
             "outlinewidth": 0,
             "ticks": ""
            },
            "colorscale": [
             [
              0,
              "#0d0887"
             ],
             [
              0.1111111111111111,
              "#46039f"
             ],
             [
              0.2222222222222222,
              "#7201a8"
             ],
             [
              0.3333333333333333,
              "#9c179e"
             ],
             [
              0.4444444444444444,
              "#bd3786"
             ],
             [
              0.5555555555555556,
              "#d8576b"
             ],
             [
              0.6666666666666666,
              "#ed7953"
             ],
             [
              0.7777777777777778,
              "#fb9f3a"
             ],
             [
              0.8888888888888888,
              "#fdca26"
             ],
             [
              1,
              "#f0f921"
             ]
            ],
            "type": "heatmapgl"
           }
          ],
          "histogram": [
           {
            "marker": {
             "pattern": {
              "fillmode": "overlay",
              "size": 10,
              "solidity": 0.2
             }
            },
            "type": "histogram"
           }
          ],
          "histogram2d": [
           {
            "colorbar": {
             "outlinewidth": 0,
             "ticks": ""
            },
            "colorscale": [
             [
              0,
              "#0d0887"
             ],
             [
              0.1111111111111111,
              "#46039f"
             ],
             [
              0.2222222222222222,
              "#7201a8"
             ],
             [
              0.3333333333333333,
              "#9c179e"
             ],
             [
              0.4444444444444444,
              "#bd3786"
             ],
             [
              0.5555555555555556,
              "#d8576b"
             ],
             [
              0.6666666666666666,
              "#ed7953"
             ],
             [
              0.7777777777777778,
              "#fb9f3a"
             ],
             [
              0.8888888888888888,
              "#fdca26"
             ],
             [
              1,
              "#f0f921"
             ]
            ],
            "type": "histogram2d"
           }
          ],
          "histogram2dcontour": [
           {
            "colorbar": {
             "outlinewidth": 0,
             "ticks": ""
            },
            "colorscale": [
             [
              0,
              "#0d0887"
             ],
             [
              0.1111111111111111,
              "#46039f"
             ],
             [
              0.2222222222222222,
              "#7201a8"
             ],
             [
              0.3333333333333333,
              "#9c179e"
             ],
             [
              0.4444444444444444,
              "#bd3786"
             ],
             [
              0.5555555555555556,
              "#d8576b"
             ],
             [
              0.6666666666666666,
              "#ed7953"
             ],
             [
              0.7777777777777778,
              "#fb9f3a"
             ],
             [
              0.8888888888888888,
              "#fdca26"
             ],
             [
              1,
              "#f0f921"
             ]
            ],
            "type": "histogram2dcontour"
           }
          ],
          "mesh3d": [
           {
            "colorbar": {
             "outlinewidth": 0,
             "ticks": ""
            },
            "type": "mesh3d"
           }
          ],
          "parcoords": [
           {
            "line": {
             "colorbar": {
              "outlinewidth": 0,
              "ticks": ""
             }
            },
            "type": "parcoords"
           }
          ],
          "pie": [
           {
            "automargin": true,
            "type": "pie"
           }
          ],
          "scatter": [
           {
            "fillpattern": {
             "fillmode": "overlay",
             "size": 10,
             "solidity": 0.2
            },
            "type": "scatter"
           }
          ],
          "scatter3d": [
           {
            "line": {
             "colorbar": {
              "outlinewidth": 0,
              "ticks": ""
             }
            },
            "marker": {
             "colorbar": {
              "outlinewidth": 0,
              "ticks": ""
             }
            },
            "type": "scatter3d"
           }
          ],
          "scattercarpet": [
           {
            "marker": {
             "colorbar": {
              "outlinewidth": 0,
              "ticks": ""
             }
            },
            "type": "scattercarpet"
           }
          ],
          "scattergeo": [
           {
            "marker": {
             "colorbar": {
              "outlinewidth": 0,
              "ticks": ""
             }
            },
            "type": "scattergeo"
           }
          ],
          "scattergl": [
           {
            "marker": {
             "colorbar": {
              "outlinewidth": 0,
              "ticks": ""
             }
            },
            "type": "scattergl"
           }
          ],
          "scattermapbox": [
           {
            "marker": {
             "colorbar": {
              "outlinewidth": 0,
              "ticks": ""
             }
            },
            "type": "scattermapbox"
           }
          ],
          "scatterpolar": [
           {
            "marker": {
             "colorbar": {
              "outlinewidth": 0,
              "ticks": ""
             }
            },
            "type": "scatterpolar"
           }
          ],
          "scatterpolargl": [
           {
            "marker": {
             "colorbar": {
              "outlinewidth": 0,
              "ticks": ""
             }
            },
            "type": "scatterpolargl"
           }
          ],
          "scatterternary": [
           {
            "marker": {
             "colorbar": {
              "outlinewidth": 0,
              "ticks": ""
             }
            },
            "type": "scatterternary"
           }
          ],
          "surface": [
           {
            "colorbar": {
             "outlinewidth": 0,
             "ticks": ""
            },
            "colorscale": [
             [
              0,
              "#0d0887"
             ],
             [
              0.1111111111111111,
              "#46039f"
             ],
             [
              0.2222222222222222,
              "#7201a8"
             ],
             [
              0.3333333333333333,
              "#9c179e"
             ],
             [
              0.4444444444444444,
              "#bd3786"
             ],
             [
              0.5555555555555556,
              "#d8576b"
             ],
             [
              0.6666666666666666,
              "#ed7953"
             ],
             [
              0.7777777777777778,
              "#fb9f3a"
             ],
             [
              0.8888888888888888,
              "#fdca26"
             ],
             [
              1,
              "#f0f921"
             ]
            ],
            "type": "surface"
           }
          ],
          "table": [
           {
            "cells": {
             "fill": {
              "color": "#EBF0F8"
             },
             "line": {
              "color": "white"
             }
            },
            "header": {
             "fill": {
              "color": "#C8D4E3"
             },
             "line": {
              "color": "white"
             }
            },
            "type": "table"
           }
          ]
         },
         "layout": {
          "annotationdefaults": {
           "arrowcolor": "#2a3f5f",
           "arrowhead": 0,
           "arrowwidth": 1
          },
          "autotypenumbers": "strict",
          "coloraxis": {
           "colorbar": {
            "outlinewidth": 0,
            "ticks": ""
           }
          },
          "colorscale": {
           "diverging": [
            [
             0,
             "#8e0152"
            ],
            [
             0.1,
             "#c51b7d"
            ],
            [
             0.2,
             "#de77ae"
            ],
            [
             0.3,
             "#f1b6da"
            ],
            [
             0.4,
             "#fde0ef"
            ],
            [
             0.5,
             "#f7f7f7"
            ],
            [
             0.6,
             "#e6f5d0"
            ],
            [
             0.7,
             "#b8e186"
            ],
            [
             0.8,
             "#7fbc41"
            ],
            [
             0.9,
             "#4d9221"
            ],
            [
             1,
             "#276419"
            ]
           ],
           "sequential": [
            [
             0,
             "#0d0887"
            ],
            [
             0.1111111111111111,
             "#46039f"
            ],
            [
             0.2222222222222222,
             "#7201a8"
            ],
            [
             0.3333333333333333,
             "#9c179e"
            ],
            [
             0.4444444444444444,
             "#bd3786"
            ],
            [
             0.5555555555555556,
             "#d8576b"
            ],
            [
             0.6666666666666666,
             "#ed7953"
            ],
            [
             0.7777777777777778,
             "#fb9f3a"
            ],
            [
             0.8888888888888888,
             "#fdca26"
            ],
            [
             1,
             "#f0f921"
            ]
           ],
           "sequentialminus": [
            [
             0,
             "#0d0887"
            ],
            [
             0.1111111111111111,
             "#46039f"
            ],
            [
             0.2222222222222222,
             "#7201a8"
            ],
            [
             0.3333333333333333,
             "#9c179e"
            ],
            [
             0.4444444444444444,
             "#bd3786"
            ],
            [
             0.5555555555555556,
             "#d8576b"
            ],
            [
             0.6666666666666666,
             "#ed7953"
            ],
            [
             0.7777777777777778,
             "#fb9f3a"
            ],
            [
             0.8888888888888888,
             "#fdca26"
            ],
            [
             1,
             "#f0f921"
            ]
           ]
          },
          "colorway": [
           "#636efa",
           "#EF553B",
           "#00cc96",
           "#ab63fa",
           "#FFA15A",
           "#19d3f3",
           "#FF6692",
           "#B6E880",
           "#FF97FF",
           "#FECB52"
          ],
          "font": {
           "color": "#2a3f5f"
          },
          "geo": {
           "bgcolor": "white",
           "lakecolor": "white",
           "landcolor": "#E5ECF6",
           "showlakes": true,
           "showland": true,
           "subunitcolor": "white"
          },
          "hoverlabel": {
           "align": "left"
          },
          "hovermode": "closest",
          "mapbox": {
           "style": "light"
          },
          "paper_bgcolor": "white",
          "plot_bgcolor": "#E5ECF6",
          "polar": {
           "angularaxis": {
            "gridcolor": "white",
            "linecolor": "white",
            "ticks": ""
           },
           "bgcolor": "#E5ECF6",
           "radialaxis": {
            "gridcolor": "white",
            "linecolor": "white",
            "ticks": ""
           }
          },
          "scene": {
           "xaxis": {
            "backgroundcolor": "#E5ECF6",
            "gridcolor": "white",
            "gridwidth": 2,
            "linecolor": "white",
            "showbackground": true,
            "ticks": "",
            "zerolinecolor": "white"
           },
           "yaxis": {
            "backgroundcolor": "#E5ECF6",
            "gridcolor": "white",
            "gridwidth": 2,
            "linecolor": "white",
            "showbackground": true,
            "ticks": "",
            "zerolinecolor": "white"
           },
           "zaxis": {
            "backgroundcolor": "#E5ECF6",
            "gridcolor": "white",
            "gridwidth": 2,
            "linecolor": "white",
            "showbackground": true,
            "ticks": "",
            "zerolinecolor": "white"
           }
          },
          "shapedefaults": {
           "line": {
            "color": "#2a3f5f"
           }
          },
          "ternary": {
           "aaxis": {
            "gridcolor": "white",
            "linecolor": "white",
            "ticks": ""
           },
           "baxis": {
            "gridcolor": "white",
            "linecolor": "white",
            "ticks": ""
           },
           "bgcolor": "#E5ECF6",
           "caxis": {
            "gridcolor": "white",
            "linecolor": "white",
            "ticks": ""
           }
          },
          "title": {
           "x": 0.05
          },
          "xaxis": {
           "automargin": true,
           "gridcolor": "white",
           "linecolor": "white",
           "ticks": "",
           "title": {
            "standoff": 15
           },
           "zerolinecolor": "white",
           "zerolinewidth": 2
          },
          "yaxis": {
           "automargin": true,
           "gridcolor": "white",
           "linecolor": "white",
           "ticks": "",
           "title": {
            "standoff": 15
           },
           "zerolinecolor": "white",
           "zerolinewidth": 2
          }
         }
        }
       }
      }
     },
     "metadata": {},
     "output_type": "display_data"
    }
   ],
   "source": [
    "visualizar_por_fecha_especifica()"
   ]
  },
  {
   "cell_type": "markdown",
   "id": "2837f0fa",
   "metadata": {},
   "source": [
    "Verficar dato por Ubicación\n",
    "\n",
    "Para que el usuario pueda conocer si alguna ubicación de su interés ha sido damnificada, mediante el metos - isin()- de la librería pandas, este podra observar una lista de booleanos el cual le confirmará si su dato buscado se encuentra dentro de la base de datos."
   ]
  },
  {
   "cell_type": "code",
   "execution_count": 228,
   "id": "20ce58ab",
   "metadata": {},
   "outputs": [],
   "source": [
    "def Buscara_disponibilidad_de_dato_por_ubicacion(Ubicacion):\n",
    "    a=df.location.isin([Ubicacion])\n",
    "    return a\n",
    "    \n"
   ]
  },
  {
   "cell_type": "code",
   "execution_count": 230,
   "id": "b3de9b2d",
   "metadata": {},
   "outputs": [
    {
     "data": {
      "text/plain": [
       "0      False\n",
       "1       True\n",
       "2      False\n",
       "3      False\n",
       "4      False\n",
       "       ...  \n",
       "440    False\n",
       "441    False\n",
       "442    False\n",
       "443    False\n",
       "444    False\n",
       "Name: location, Length: 445, dtype: bool"
      ]
     },
     "execution_count": 230,
     "metadata": {},
     "output_type": "execute_result"
    }
   ],
   "source": [
    "Buscara_disponibilidad_de_dato_por_ubicacion(\"Uman\")"
   ]
  },
  {
   "cell_type": "markdown",
   "id": "53e8eed0",
   "metadata": {},
   "source": [
    "Filtrar Por Ubicación\n",
    "\n",
    "Para este tipo de filtro se ha de hacer una mascara de Booleanos (vector de Booleanos), el cual retornará de la base de datos. Esta \"mascara\" le informará al programa, que datos buscados, se encuentran y cuales no, en la base de datos.Por lo tanto al usar esta mascara dentro del Data frame, nos retornará, la base con las filas que si contengan la ubicación buscada. \n",
    "\n",
    "Por consiguiente se le intuye al programa que gráfique la información contenida en el Data Frame filtrado."
   ]
  },
  {
   "cell_type": "code",
   "execution_count": 223,
   "id": "b2cb7dcb",
   "metadata": {},
   "outputs": [],
   "source": [
    "def visualizar_zonas_ciudad():\n",
    "    n=input(\"Ingrese la urbanizacion Ukraniana de su interés, ejemplo Kyiv.\\n Ingrese el nombre: \")\n",
    "    \n",
    "    df_mask=df['location']==n\n",
    "    filteredbycity_df = df[df_mask]\n",
    "    \n",
    "        \n",
    "    plot=px.scatter_mapbox(lon=filteredbycity_df['longitude'], lat=filteredbycity_df['latitude'], mapbox_style='open-street-map', zoom=3, size=filteredbycity_df.index+100)\n",
    "    return plot\n",
    "   "
   ]
  },
  {
   "cell_type": "code",
   "execution_count": 224,
   "id": "c07a1e69",
   "metadata": {},
   "outputs": [
    {
     "data": {
      "application/vnd.plotly.v1+json": {
       "config": {
        "plotlyServerURL": "https://plot.ly"
       },
       "data": [
        {
         "hovertemplate": "size=%{marker.size}<br>lat=%{lat}<br>lon=%{lon}<extra></extra>",
         "lat": [
          50.470055,
          50.447934,
          50.485573,
          50.42217,
          50.65881,
          50.481478,
          50.514881,
          50.471321,
          50.457029,
          50.439532,
          50.501995,
          50.430225,
          50.502264,
          50.471605,
          50.571763
         ],
         "legendgroup": "",
         "lon": [
          30.527381,
          30.476193,
          30.472797,
          30.46481,
          29.966006,
          30.458893,
          30.598049,
          30.45342,
          30.592146,
          30.146396,
          30.449287,
          30.02996,
          30.417336,
          30.403002,
          30.279152
         ],
         "marker": {
          "color": "#636efa",
          "size": [
           102,
           114,
           117,
           127,
           131,
           135,
           163,
           181,
           196,
           310,
           315,
           346,
           353,
           383,
           385
          ],
          "sizemode": "area",
          "sizeref": 0.9625
         },
         "mode": "markers",
         "name": "",
         "showlegend": false,
         "subplot": "mapbox",
         "type": "scattermapbox"
        }
       ],
       "layout": {
        "legend": {
         "itemsizing": "constant",
         "tracegroupgap": 0
        },
        "mapbox": {
         "center": {
          "lat": 50.488442333333325,
          "lon": 30.38232186666667
         },
         "domain": {
          "x": [
           0,
           1
          ],
          "y": [
           0,
           1
          ]
         },
         "style": "open-street-map",
         "zoom": 3
        },
        "margin": {
         "t": 60
        },
        "template": {
         "data": {
          "bar": [
           {
            "error_x": {
             "color": "#2a3f5f"
            },
            "error_y": {
             "color": "#2a3f5f"
            },
            "marker": {
             "line": {
              "color": "#E5ECF6",
              "width": 0.5
             },
             "pattern": {
              "fillmode": "overlay",
              "size": 10,
              "solidity": 0.2
             }
            },
            "type": "bar"
           }
          ],
          "barpolar": [
           {
            "marker": {
             "line": {
              "color": "#E5ECF6",
              "width": 0.5
             },
             "pattern": {
              "fillmode": "overlay",
              "size": 10,
              "solidity": 0.2
             }
            },
            "type": "barpolar"
           }
          ],
          "carpet": [
           {
            "aaxis": {
             "endlinecolor": "#2a3f5f",
             "gridcolor": "white",
             "linecolor": "white",
             "minorgridcolor": "white",
             "startlinecolor": "#2a3f5f"
            },
            "baxis": {
             "endlinecolor": "#2a3f5f",
             "gridcolor": "white",
             "linecolor": "white",
             "minorgridcolor": "white",
             "startlinecolor": "#2a3f5f"
            },
            "type": "carpet"
           }
          ],
          "choropleth": [
           {
            "colorbar": {
             "outlinewidth": 0,
             "ticks": ""
            },
            "type": "choropleth"
           }
          ],
          "contour": [
           {
            "colorbar": {
             "outlinewidth": 0,
             "ticks": ""
            },
            "colorscale": [
             [
              0,
              "#0d0887"
             ],
             [
              0.1111111111111111,
              "#46039f"
             ],
             [
              0.2222222222222222,
              "#7201a8"
             ],
             [
              0.3333333333333333,
              "#9c179e"
             ],
             [
              0.4444444444444444,
              "#bd3786"
             ],
             [
              0.5555555555555556,
              "#d8576b"
             ],
             [
              0.6666666666666666,
              "#ed7953"
             ],
             [
              0.7777777777777778,
              "#fb9f3a"
             ],
             [
              0.8888888888888888,
              "#fdca26"
             ],
             [
              1,
              "#f0f921"
             ]
            ],
            "type": "contour"
           }
          ],
          "contourcarpet": [
           {
            "colorbar": {
             "outlinewidth": 0,
             "ticks": ""
            },
            "type": "contourcarpet"
           }
          ],
          "heatmap": [
           {
            "colorbar": {
             "outlinewidth": 0,
             "ticks": ""
            },
            "colorscale": [
             [
              0,
              "#0d0887"
             ],
             [
              0.1111111111111111,
              "#46039f"
             ],
             [
              0.2222222222222222,
              "#7201a8"
             ],
             [
              0.3333333333333333,
              "#9c179e"
             ],
             [
              0.4444444444444444,
              "#bd3786"
             ],
             [
              0.5555555555555556,
              "#d8576b"
             ],
             [
              0.6666666666666666,
              "#ed7953"
             ],
             [
              0.7777777777777778,
              "#fb9f3a"
             ],
             [
              0.8888888888888888,
              "#fdca26"
             ],
             [
              1,
              "#f0f921"
             ]
            ],
            "type": "heatmap"
           }
          ],
          "heatmapgl": [
           {
            "colorbar": {
             "outlinewidth": 0,
             "ticks": ""
            },
            "colorscale": [
             [
              0,
              "#0d0887"
             ],
             [
              0.1111111111111111,
              "#46039f"
             ],
             [
              0.2222222222222222,
              "#7201a8"
             ],
             [
              0.3333333333333333,
              "#9c179e"
             ],
             [
              0.4444444444444444,
              "#bd3786"
             ],
             [
              0.5555555555555556,
              "#d8576b"
             ],
             [
              0.6666666666666666,
              "#ed7953"
             ],
             [
              0.7777777777777778,
              "#fb9f3a"
             ],
             [
              0.8888888888888888,
              "#fdca26"
             ],
             [
              1,
              "#f0f921"
             ]
            ],
            "type": "heatmapgl"
           }
          ],
          "histogram": [
           {
            "marker": {
             "pattern": {
              "fillmode": "overlay",
              "size": 10,
              "solidity": 0.2
             }
            },
            "type": "histogram"
           }
          ],
          "histogram2d": [
           {
            "colorbar": {
             "outlinewidth": 0,
             "ticks": ""
            },
            "colorscale": [
             [
              0,
              "#0d0887"
             ],
             [
              0.1111111111111111,
              "#46039f"
             ],
             [
              0.2222222222222222,
              "#7201a8"
             ],
             [
              0.3333333333333333,
              "#9c179e"
             ],
             [
              0.4444444444444444,
              "#bd3786"
             ],
             [
              0.5555555555555556,
              "#d8576b"
             ],
             [
              0.6666666666666666,
              "#ed7953"
             ],
             [
              0.7777777777777778,
              "#fb9f3a"
             ],
             [
              0.8888888888888888,
              "#fdca26"
             ],
             [
              1,
              "#f0f921"
             ]
            ],
            "type": "histogram2d"
           }
          ],
          "histogram2dcontour": [
           {
            "colorbar": {
             "outlinewidth": 0,
             "ticks": ""
            },
            "colorscale": [
             [
              0,
              "#0d0887"
             ],
             [
              0.1111111111111111,
              "#46039f"
             ],
             [
              0.2222222222222222,
              "#7201a8"
             ],
             [
              0.3333333333333333,
              "#9c179e"
             ],
             [
              0.4444444444444444,
              "#bd3786"
             ],
             [
              0.5555555555555556,
              "#d8576b"
             ],
             [
              0.6666666666666666,
              "#ed7953"
             ],
             [
              0.7777777777777778,
              "#fb9f3a"
             ],
             [
              0.8888888888888888,
              "#fdca26"
             ],
             [
              1,
              "#f0f921"
             ]
            ],
            "type": "histogram2dcontour"
           }
          ],
          "mesh3d": [
           {
            "colorbar": {
             "outlinewidth": 0,
             "ticks": ""
            },
            "type": "mesh3d"
           }
          ],
          "parcoords": [
           {
            "line": {
             "colorbar": {
              "outlinewidth": 0,
              "ticks": ""
             }
            },
            "type": "parcoords"
           }
          ],
          "pie": [
           {
            "automargin": true,
            "type": "pie"
           }
          ],
          "scatter": [
           {
            "fillpattern": {
             "fillmode": "overlay",
             "size": 10,
             "solidity": 0.2
            },
            "type": "scatter"
           }
          ],
          "scatter3d": [
           {
            "line": {
             "colorbar": {
              "outlinewidth": 0,
              "ticks": ""
             }
            },
            "marker": {
             "colorbar": {
              "outlinewidth": 0,
              "ticks": ""
             }
            },
            "type": "scatter3d"
           }
          ],
          "scattercarpet": [
           {
            "marker": {
             "colorbar": {
              "outlinewidth": 0,
              "ticks": ""
             }
            },
            "type": "scattercarpet"
           }
          ],
          "scattergeo": [
           {
            "marker": {
             "colorbar": {
              "outlinewidth": 0,
              "ticks": ""
             }
            },
            "type": "scattergeo"
           }
          ],
          "scattergl": [
           {
            "marker": {
             "colorbar": {
              "outlinewidth": 0,
              "ticks": ""
             }
            },
            "type": "scattergl"
           }
          ],
          "scattermapbox": [
           {
            "marker": {
             "colorbar": {
              "outlinewidth": 0,
              "ticks": ""
             }
            },
            "type": "scattermapbox"
           }
          ],
          "scatterpolar": [
           {
            "marker": {
             "colorbar": {
              "outlinewidth": 0,
              "ticks": ""
             }
            },
            "type": "scatterpolar"
           }
          ],
          "scatterpolargl": [
           {
            "marker": {
             "colorbar": {
              "outlinewidth": 0,
              "ticks": ""
             }
            },
            "type": "scatterpolargl"
           }
          ],
          "scatterternary": [
           {
            "marker": {
             "colorbar": {
              "outlinewidth": 0,
              "ticks": ""
             }
            },
            "type": "scatterternary"
           }
          ],
          "surface": [
           {
            "colorbar": {
             "outlinewidth": 0,
             "ticks": ""
            },
            "colorscale": [
             [
              0,
              "#0d0887"
             ],
             [
              0.1111111111111111,
              "#46039f"
             ],
             [
              0.2222222222222222,
              "#7201a8"
             ],
             [
              0.3333333333333333,
              "#9c179e"
             ],
             [
              0.4444444444444444,
              "#bd3786"
             ],
             [
              0.5555555555555556,
              "#d8576b"
             ],
             [
              0.6666666666666666,
              "#ed7953"
             ],
             [
              0.7777777777777778,
              "#fb9f3a"
             ],
             [
              0.8888888888888888,
              "#fdca26"
             ],
             [
              1,
              "#f0f921"
             ]
            ],
            "type": "surface"
           }
          ],
          "table": [
           {
            "cells": {
             "fill": {
              "color": "#EBF0F8"
             },
             "line": {
              "color": "white"
             }
            },
            "header": {
             "fill": {
              "color": "#C8D4E3"
             },
             "line": {
              "color": "white"
             }
            },
            "type": "table"
           }
          ]
         },
         "layout": {
          "annotationdefaults": {
           "arrowcolor": "#2a3f5f",
           "arrowhead": 0,
           "arrowwidth": 1
          },
          "autotypenumbers": "strict",
          "coloraxis": {
           "colorbar": {
            "outlinewidth": 0,
            "ticks": ""
           }
          },
          "colorscale": {
           "diverging": [
            [
             0,
             "#8e0152"
            ],
            [
             0.1,
             "#c51b7d"
            ],
            [
             0.2,
             "#de77ae"
            ],
            [
             0.3,
             "#f1b6da"
            ],
            [
             0.4,
             "#fde0ef"
            ],
            [
             0.5,
             "#f7f7f7"
            ],
            [
             0.6,
             "#e6f5d0"
            ],
            [
             0.7,
             "#b8e186"
            ],
            [
             0.8,
             "#7fbc41"
            ],
            [
             0.9,
             "#4d9221"
            ],
            [
             1,
             "#276419"
            ]
           ],
           "sequential": [
            [
             0,
             "#0d0887"
            ],
            [
             0.1111111111111111,
             "#46039f"
            ],
            [
             0.2222222222222222,
             "#7201a8"
            ],
            [
             0.3333333333333333,
             "#9c179e"
            ],
            [
             0.4444444444444444,
             "#bd3786"
            ],
            [
             0.5555555555555556,
             "#d8576b"
            ],
            [
             0.6666666666666666,
             "#ed7953"
            ],
            [
             0.7777777777777778,
             "#fb9f3a"
            ],
            [
             0.8888888888888888,
             "#fdca26"
            ],
            [
             1,
             "#f0f921"
            ]
           ],
           "sequentialminus": [
            [
             0,
             "#0d0887"
            ],
            [
             0.1111111111111111,
             "#46039f"
            ],
            [
             0.2222222222222222,
             "#7201a8"
            ],
            [
             0.3333333333333333,
             "#9c179e"
            ],
            [
             0.4444444444444444,
             "#bd3786"
            ],
            [
             0.5555555555555556,
             "#d8576b"
            ],
            [
             0.6666666666666666,
             "#ed7953"
            ],
            [
             0.7777777777777778,
             "#fb9f3a"
            ],
            [
             0.8888888888888888,
             "#fdca26"
            ],
            [
             1,
             "#f0f921"
            ]
           ]
          },
          "colorway": [
           "#636efa",
           "#EF553B",
           "#00cc96",
           "#ab63fa",
           "#FFA15A",
           "#19d3f3",
           "#FF6692",
           "#B6E880",
           "#FF97FF",
           "#FECB52"
          ],
          "font": {
           "color": "#2a3f5f"
          },
          "geo": {
           "bgcolor": "white",
           "lakecolor": "white",
           "landcolor": "#E5ECF6",
           "showlakes": true,
           "showland": true,
           "subunitcolor": "white"
          },
          "hoverlabel": {
           "align": "left"
          },
          "hovermode": "closest",
          "mapbox": {
           "style": "light"
          },
          "paper_bgcolor": "white",
          "plot_bgcolor": "#E5ECF6",
          "polar": {
           "angularaxis": {
            "gridcolor": "white",
            "linecolor": "white",
            "ticks": ""
           },
           "bgcolor": "#E5ECF6",
           "radialaxis": {
            "gridcolor": "white",
            "linecolor": "white",
            "ticks": ""
           }
          },
          "scene": {
           "xaxis": {
            "backgroundcolor": "#E5ECF6",
            "gridcolor": "white",
            "gridwidth": 2,
            "linecolor": "white",
            "showbackground": true,
            "ticks": "",
            "zerolinecolor": "white"
           },
           "yaxis": {
            "backgroundcolor": "#E5ECF6",
            "gridcolor": "white",
            "gridwidth": 2,
            "linecolor": "white",
            "showbackground": true,
            "ticks": "",
            "zerolinecolor": "white"
           },
           "zaxis": {
            "backgroundcolor": "#E5ECF6",
            "gridcolor": "white",
            "gridwidth": 2,
            "linecolor": "white",
            "showbackground": true,
            "ticks": "",
            "zerolinecolor": "white"
           }
          },
          "shapedefaults": {
           "line": {
            "color": "#2a3f5f"
           }
          },
          "ternary": {
           "aaxis": {
            "gridcolor": "white",
            "linecolor": "white",
            "ticks": ""
           },
           "baxis": {
            "gridcolor": "white",
            "linecolor": "white",
            "ticks": ""
           },
           "bgcolor": "#E5ECF6",
           "caxis": {
            "gridcolor": "white",
            "linecolor": "white",
            "ticks": ""
           }
          },
          "title": {
           "x": 0.05
          },
          "xaxis": {
           "automargin": true,
           "gridcolor": "white",
           "linecolor": "white",
           "ticks": "",
           "title": {
            "standoff": 15
           },
           "zerolinecolor": "white",
           "zerolinewidth": 2
          },
          "yaxis": {
           "automargin": true,
           "gridcolor": "white",
           "linecolor": "white",
           "ticks": "",
           "title": {
            "standoff": 15
           },
           "zerolinecolor": "white",
           "zerolinewidth": 2
          }
         }
        }
       }
      }
     },
     "metadata": {},
     "output_type": "display_data"
    }
   ],
   "source": [
    "visualizar_zonas_ciudad()"
   ]
  }
 ],
 "metadata": {
  "interpreter": {
   "hash": "e50e47dcc9f55020805e55367f206e8eca1a93e50e5a3cd48ad6b76a36c402d6"
  },
  "kernelspec": {
   "display_name": "Python 3.9.7 64-bit",
   "language": "python",
   "name": "python3"
  },
  "language_info": {
   "codemirror_mode": {
    "name": "ipython",
    "version": 3
   },
   "file_extension": ".py",
   "mimetype": "text/x-python",
   "name": "python",
   "nbconvert_exporter": "python",
   "pygments_lexer": "ipython3",
   "version": "3.9.7"
  },
  "widgets": {
   "application/vnd.jupyter.widget-state+json": {
    "state": {},
    "version_major": 2,
    "version_minor": 0
   }
  }
 },
 "nbformat": 4,
 "nbformat_minor": 5
}
